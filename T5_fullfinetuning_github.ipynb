{
 "cells": [
  {
   "cell_type": "markdown",
   "metadata": {
    "id": "8o_GSSmm2jTJ"
   },
   "source": [
    "## 安裝"
   ]
  },
  {
   "cell_type": "code",
   "execution_count": 1,
   "metadata": {},
   "outputs": [],
   "source": [
    "import json\n",
    "\n",
    "file_path = \"T5_fullfinetuning_github.ipynb\"  # 你的 notebook 路徑\n",
    "\n",
    "with open(file_path, \"r\", encoding=\"utf-8\") as f:\n",
    "    notebook = json.load(f)\n",
    "\n",
    "# 修正 widgets metadata\n",
    "if \"widgets\" in notebook[\"metadata\"]:\n",
    "    if \"state\" not in notebook[\"metadata\"][\"widgets\"]:\n",
    "        notebook[\"metadata\"][\"widgets\"][\"state\"] = {}\n",
    "\n",
    "with open(file_path, \"w\", encoding=\"utf-8\") as f:\n",
    "    json.dump(notebook, f, indent=2)\n"
   ]
  },
  {
   "cell_type": "code",
   "execution_count": null,
   "metadata": {
    "id": "aveewppkxUPo"
   },
   "outputs": [],
   "source": [
    "!pip install transformers datasets evaluate scikit-learn"
   ]
  },
  {
   "cell_type": "code",
   "execution_count": null,
   "metadata": {
    "id": "e0MZVm0j2fh5"
   },
   "outputs": [],
   "source": [
    "!pip install peft rouge_score bert_score"
   ]
  },
  {
   "cell_type": "code",
   "execution_count": 3,
   "metadata": {
    "id": "AE-nJ4QREEzi"
   },
   "outputs": [],
   "source": [
    "import os\n",
    "os.environ[\"PYTORCH_CUDA_ALLOC_CONF\"] = \"expandable_segments:True\""
   ]
  },
  {
   "cell_type": "code",
   "execution_count": 4,
   "metadata": {
    "colab": {
     "base_uri": "https://localhost:8080/"
    },
    "id": "DMOUmQxv263d",
    "outputId": "5603b63d-4862-44bf-beba-e08bbccee777"
   },
   "outputs": [
    {
     "name": "stdout",
     "output_type": "stream",
     "text": [
      "Mounted at /content/drive\n"
     ]
    }
   ],
   "source": [
    "from google.colab import drive\n",
    "\n",
    "# 掛載 Google Drive\n",
    "drive.mount('/content/drive')"
   ]
  },
  {
   "cell_type": "code",
   "execution_count": 5,
   "metadata": {
    "id": "xQHUTeUI27d7"
   },
   "outputs": [],
   "source": [
    "# 設定資料夾路徑\n",
    "train_path = \"/content/drive/MyDrive/data/train.json\"\n",
    "test_path = \"/content/drive/MyDrive/data/test.json\""
   ]
  },
  {
   "cell_type": "code",
   "execution_count": 6,
   "metadata": {
    "id": "PyaQlg1Rxcvl"
   },
   "outputs": [],
   "source": [
    "from datasets import Dataset, DatasetDict\n",
    "from sklearn.model_selection import train_test_split\n",
    "from transformers import (\n",
    "    AutoTokenizer, AutoModelForSeq2SeqLM,\n",
    "    T5ForConditionalGeneration, Seq2SeqTrainer, Seq2SeqTrainingArguments,\n",
    "    DataCollatorForSeq2Seq, EarlyStoppingCallback\n",
    ")\n",
    "from google.colab import files\n",
    "from tqdm import tqdm\n",
    "\n",
    "import random\n",
    "import numpy as np\n",
    "import torch\n",
    "import json\n",
    "import shutil\n",
    "import os\n",
    "import evaluate\n",
    "import gc"
   ]
  },
  {
   "cell_type": "code",
   "execution_count": 7,
   "metadata": {
    "id": "1myHEAT_Oo0S"
   },
   "outputs": [],
   "source": [
    "seed = 18888888\n",
    "\n",
    "random.seed(seed)\n",
    "np.random.seed(seed)\n",
    "torch.manual_seed(seed)\n",
    "torch.cuda.manual_seed_all(seed)"
   ]
  },
  {
   "cell_type": "markdown",
   "metadata": {
    "id": "nJx7L9qnzUcX"
   },
   "source": [
    "## Full fine tuning google/flan-t5-base"
   ]
  },
  {
   "cell_type": "code",
   "execution_count": 8,
   "metadata": {
    "id": "ATmJEB68Oo0S"
   },
   "outputs": [],
   "source": [
    "# === 參數設定 ===\n",
    "model_name = \"google/flan-t5-base\"\n",
    "\n",
    "max_input_length = 2048\n",
    "max_target_length = 600\n",
    "\n",
    "# === 載入並切分資料 ===\n",
    "with open(train_path, \"r\", encoding=\"utf-8\") as f:\n",
    "    data = [json.loads(line) for line in f]\n",
    "\n",
    "train_data, val_data = train_test_split(data, test_size=0.1, random_state=42)\n",
    "train_ds = Dataset.from_list(train_data)\n",
    "val_ds = Dataset.from_list(val_data)\n",
    "dataset = DatasetDict({\"train\": train_ds, \"validation\": val_ds})"
   ]
  },
  {
   "cell_type": "code",
   "execution_count": 9,
   "metadata": {
    "colab": {
     "base_uri": "https://localhost:8080/",
     "height": 533,
     "referenced_widgets": [
      "f9fbc8fc34a34dc3957ad5ae71b6c6f2",
      "05b2e50fe1984c0d8c2db5b89cd6200c",
      "3e09bf91dc4f4193abaca0ae01112543",
      "daeda61f25e545d8bd74c078992118d4",
      "aa92e606ee4446ed94c14783ce31a52c",
      "2d4cdd2f258943bf92287624dc36df99",
      "85ee85ef11ed4ea19c4dd619a9ae3d47",
      "b4f5bd8d2c49449f8d122da99a8fd199",
      "714a1621331e4babab9d2b4d70dbe184",
      "2eec527736e8401b93db89d278bef89a",
      "873998431c5b4537982bfb8e83eaf14f",
      "62b641882c604c458d819f0120ff1091",
      "6f0058df5aca46bdbfc5ef9234167dcb",
      "47aa9597953c402e931e09dffdf696b0",
      "9b30879aa4ba4ba788e70248d8dc07ec",
      "9ae99e617c3c4446ada5b7ae82a878d9",
      "cefae9cd615e46b19075f5a150cf14da",
      "9997e06b208d4f119e9927da940f201b",
      "5c522ba831e14fbb8360052fc7efc676",
      "85e43045e6bc48b0ae83c6ae122cd9cb",
      "ebfc6157e5fe4a80844c94eafffa0ff6",
      "e386bceed96a477dab468661c009e169",
      "a1e0ae2218f841319bb3b3a1d27f6669",
      "110612f807b94dc78478dd470b7161f0",
      "573402794d784b0c8e67e3040c13f0a1",
      "f95d34ab2d1f4b4796b61ff392143614",
      "b2d68886c8ad4671ab52385142330d20",
      "8faf081a2a0f4c5db5419e842cd4d012",
      "122efd2000394e0aa3301363c3ba5aef",
      "fc77e2cee7f64a2594c8835c750d62a5",
      "914dc2e3b6014b1a872d92d55aeaa315",
      "ff10c31c43ed430aad678e6e5eb314d1",
      "1f7748c59900464e8a3b5dfceaa9a9f4",
      "a6d6ae1bce214af2804a3e36908bc266",
      "57054f9052b549b59cd757a164f6ea71",
      "9079de2fbe3b4901b31ae7ffd8111da9",
      "38d00afad5d646248d4a0ef39d2c6bd8",
      "797fd9b0312f43ecbbffda31cd52cf40",
      "ef576166db054b7b8ff1b305e0bcbd6b",
      "6d8d9b31eaf24332b244b07d037d00c4",
      "63071d55accc4bd7a35b55dd29f04435",
      "ab59e65b2f924725a442a46ea9b66709",
      "63a15ec614e8487c90ce900c9653c0a4",
      "3c64681f310b4744b5473ca0d27f6873",
      "72dbf6fa73b248cc81e1200f2a6fc1ed",
      "036ec170e8e34b489a8af125d74d28ad",
      "d849b60cba5946f5a320e16519625c96",
      "fb60e0605cde4778930ce2fef64ecc5e",
      "3442496575de4178ae9a425f62e62945",
      "a2427da0de72441ca09da2af8592e7fc",
      "fedf0327e74e47bbab30a1961a986a6e",
      "86e7f1f53d5a449d9fc669219a08d59d",
      "cc3d539fce2046f89258b42fd24a12b5",
      "7eaaa085cfe642db81f9b0f7206d78bf",
      "25cb751391434fdc8f4abf4abc5f48d0",
      "86bb2d8f3eec4d0a9063c4312da91f75",
      "0402c4db34634a07a69075b111410c60",
      "7579b61e965b4e56941535f809d0568d",
      "6a6faab3dc0d457e8df0a5b89a0565b1",
      "b074c2f725e549aba875707eb1ae2037",
      "08058962595645f3a52b4f7378073beb",
      "2b2d7102315a446286da9aebb960ab1c",
      "a97ccd3badd546eaaa82c21bc5df41b5",
      "6047adc2996843fbbe6ade3dcee5230f",
      "75566480aa034d61b44b317813b07cb6",
      "a3239f4788b44e3991b3f59f1f070c98",
      "387a26411c8a441eaa621996f239cb51",
      "30947270f4cc436699067274ed4cbf29",
      "2b9d7bb18df5466f9efd929c573b0e7d",
      "0107b69335c34bea9911ac18a814399f",
      "670de8a730204f4ab21a0b5009732b46",
      "8214ab89d68b43b584d403c9e7a2995a",
      "617f6c900faa4b0d80ed249b08a52cc2",
      "d8ba99134411482aa5972d5d80e1cba8",
      "952d3ab36f3f49c787800e539eb69156",
      "1cb4ed1d7e774619a8352b512d2fac0a",
      "507f42e0f15c4fe89bc8dd4c9ae2879f",
      "5e1078924f5441d1bc9696b18b4aa50a",
      "214dd9d0d5654ec99e5b487624090beb",
      "f40a592feabe4d2b81aa0b6d832281fa",
      "55e66fd5adf54e9285ba5a0f84cc37de",
      "ca1d03a0686d493cb75f3af63a31b639",
      "df9fc16de850435db81d366b61bdd202",
      "cec305f4bd6046bfadd521806847889b",
      "dc5018cbf8f9421298981bd6c2c4e05c",
      "99c9561965fd472c903c9507e03402a1",
      "fb64086f88174f21a5db4ffa4c4cfa82",
      "511bb6cd32a140fea75231dc629d53ac",
      "b82c4f0f3a0a45a3a165fc64da2df411",
      "11f7f994a1674c9695e8a5cd0844d641",
      "be50333886784a3b9b86372bbc55e9d5",
      "800defd7aee1499f922b2f4d09165464",
      "a0cc2a6022fb47218a0f27b2f5a1ac25",
      "6652fac7d92541409267d325d65de557",
      "e3b33eb8870a4c939f94ab46199d9793",
      "befda464b8534350a451e1441a54731c",
      "4f124f41d21542e3ad4efd0c3744a90a",
      "04e6f2db535745fea1f2a2b6cd6e5ebf",
      "169317cc767348c9a522323f3f5f3b06"
     ]
    },
    "id": "VdIYC9ygOo0S",
    "outputId": "5123dd26-8947-4222-a5d3-f1b602e24623"
   },
   "outputs": [
    {
     "name": "stderr",
     "output_type": "stream",
     "text": [
      "/usr/local/lib/python3.11/dist-packages/huggingface_hub/utils/_auth.py:94: UserWarning: \n",
      "The secret `HF_TOKEN` does not exist in your Colab secrets.\n",
      "To authenticate with the Hugging Face Hub, create a token in your settings tab (https://huggingface.co/settings/tokens), set it as secret in your Google Colab and restart your session.\n",
      "You will be able to reuse this secret in all of your notebooks.\n",
      "Please note that authentication is recommended but still optional to access public models or datasets.\n",
      "  warnings.warn(\n"
     ]
    },
    {
     "data": {
      "application/vnd.jupyter.widget-view+json": {
       "model_id": "f9fbc8fc34a34dc3957ad5ae71b6c6f2",
       "version_major": 2,
       "version_minor": 0
      },
      "text/plain": [
       "tokenizer_config.json:   0%|          | 0.00/2.54k [00:00<?, ?B/s]"
      ]
     },
     "metadata": {},
     "output_type": "display_data"
    },
    {
     "name": "stderr",
     "output_type": "stream",
     "text": [
      "Xet Storage is enabled for this repo, but the 'hf_xet' package is not installed. Falling back to regular HTTP download. For better performance, install the package with: `pip install huggingface_hub[hf_xet]` or `pip install hf_xet`\n",
      "WARNING:huggingface_hub.file_download:Xet Storage is enabled for this repo, but the 'hf_xet' package is not installed. Falling back to regular HTTP download. For better performance, install the package with: `pip install huggingface_hub[hf_xet]` or `pip install hf_xet`\n"
     ]
    },
    {
     "data": {
      "application/vnd.jupyter.widget-view+json": {
       "model_id": "62b641882c604c458d819f0120ff1091",
       "version_major": 2,
       "version_minor": 0
      },
      "text/plain": [
       "spiece.model:   0%|          | 0.00/792k [00:00<?, ?B/s]"
      ]
     },
     "metadata": {},
     "output_type": "display_data"
    },
    {
     "data": {
      "application/vnd.jupyter.widget-view+json": {
       "model_id": "a1e0ae2218f841319bb3b3a1d27f6669",
       "version_major": 2,
       "version_minor": 0
      },
      "text/plain": [
       "tokenizer.json:   0%|          | 0.00/2.42M [00:00<?, ?B/s]"
      ]
     },
     "metadata": {},
     "output_type": "display_data"
    },
    {
     "data": {
      "application/vnd.jupyter.widget-view+json": {
       "model_id": "a6d6ae1bce214af2804a3e36908bc266",
       "version_major": 2,
       "version_minor": 0
      },
      "text/plain": [
       "special_tokens_map.json:   0%|          | 0.00/2.20k [00:00<?, ?B/s]"
      ]
     },
     "metadata": {},
     "output_type": "display_data"
    },
    {
     "data": {
      "application/vnd.jupyter.widget-view+json": {
       "model_id": "72dbf6fa73b248cc81e1200f2a6fc1ed",
       "version_major": 2,
       "version_minor": 0
      },
      "text/plain": [
       "config.json:   0%|          | 0.00/1.40k [00:00<?, ?B/s]"
      ]
     },
     "metadata": {},
     "output_type": "display_data"
    },
    {
     "name": "stderr",
     "output_type": "stream",
     "text": [
      "Xet Storage is enabled for this repo, but the 'hf_xet' package is not installed. Falling back to regular HTTP download. For better performance, install the package with: `pip install huggingface_hub[hf_xet]` or `pip install hf_xet`\n",
      "WARNING:huggingface_hub.file_download:Xet Storage is enabled for this repo, but the 'hf_xet' package is not installed. Falling back to regular HTTP download. For better performance, install the package with: `pip install huggingface_hub[hf_xet]` or `pip install hf_xet`\n"
     ]
    },
    {
     "data": {
      "application/vnd.jupyter.widget-view+json": {
       "model_id": "86bb2d8f3eec4d0a9063c4312da91f75",
       "version_major": 2,
       "version_minor": 0
      },
      "text/plain": [
       "model.safetensors:   0%|          | 0.00/990M [00:00<?, ?B/s]"
      ]
     },
     "metadata": {},
     "output_type": "display_data"
    },
    {
     "data": {
      "application/vnd.jupyter.widget-view+json": {
       "model_id": "387a26411c8a441eaa621996f239cb51",
       "version_major": 2,
       "version_minor": 0
      },
      "text/plain": [
       "generation_config.json:   0%|          | 0.00/147 [00:00<?, ?B/s]"
      ]
     },
     "metadata": {},
     "output_type": "display_data"
    },
    {
     "data": {
      "application/vnd.jupyter.widget-view+json": {
       "model_id": "5e1078924f5441d1bc9696b18b4aa50a",
       "version_major": 2,
       "version_minor": 0
      },
      "text/plain": [
       "Map:   0%|          | 0/367 [00:00<?, ? examples/s]"
      ]
     },
     "metadata": {},
     "output_type": "display_data"
    },
    {
     "name": "stderr",
     "output_type": "stream",
     "text": [
      "/usr/local/lib/python3.11/dist-packages/transformers/tokenization_utils_base.py:3980: UserWarning: `as_target_tokenizer` is deprecated and will be removed in v5 of Transformers. You can tokenize your labels by using the argument `text_target` of the regular `__call__` method (either in the same call as your input texts if you use the same keyword arguments, or in a separate call.\n",
      "  warnings.warn(\n"
     ]
    },
    {
     "data": {
      "application/vnd.jupyter.widget-view+json": {
       "model_id": "b82c4f0f3a0a45a3a165fc64da2df411",
       "version_major": 2,
       "version_minor": 0
      },
      "text/plain": [
       "Map:   0%|          | 0/41 [00:00<?, ? examples/s]"
      ]
     },
     "metadata": {},
     "output_type": "display_data"
    }
   ],
   "source": [
    "# === 載入 tokenizer 與模型 ===\n",
    "tokenizer = AutoTokenizer.from_pretrained(model_name)\n",
    "model = AutoModelForSeq2SeqLM.from_pretrained(model_name)\n",
    "model.gradient_checkpointing_enable()\n",
    "\n",
    "# === 預處理函式 ===\n",
    "def preprocess(example):\n",
    "    prompt = (\n",
    "    \"You are a professional academic summarizer. \"\n",
    "    \"Write a precise and objective abstract for the following research introduction. \"\n",
    "    \"Do not include poetic or exaggerated language. \"\n",
    "    \"Only describe the main objectives, methods, and key findings of the paper. \"\n",
    "    \"If the text contains formulas, mathematical notations, or specific numerical results, retain them in the abstract. \"\n",
    "    \"Do not add personal opinions or restate this prompt. Use a formal academic tone.\\n\\n\"\n",
    "    \"Introduction: \"\n",
    "    )\n",
    "    inputs = prompt + example[\"introduction\"]\n",
    "    targets = example[\"abstract\"]\n",
    "    model_inputs = tokenizer(inputs, max_length=max_input_length, truncation=True, padding=\"max_length\")\n",
    "    with tokenizer.as_target_tokenizer():\n",
    "        labels = tokenizer(targets, max_length=max_target_length, truncation=True, padding=\"max_length\")[\"input_ids\"]\n",
    "        labels = [t if t != tokenizer.pad_token_id else -100 for t in labels]\n",
    "    model_inputs[\"labels\"] = labels\n",
    "    return model_inputs\n",
    "\n",
    "tokenized_dataset = dataset.map(preprocess, batched=False)"
   ]
  },
  {
   "cell_type": "code",
   "execution_count": 10,
   "metadata": {
    "colab": {
     "base_uri": "https://localhost:8080/"
    },
    "id": "pVjZXIJqOo0T",
    "outputId": "8313452e-9d80-4865-d065-a922fd58f8a8"
   },
   "outputs": [
    {
     "name": "stdout",
     "output_type": "stream",
     "text": [
      "You are a professional academic summarizer. Write a precise and objective abstract for the following research introduction. Do not include poetic or exaggerated language. Only describe the main objectives, methods, and key findings of the paper. If the text contains formulas, mathematical notations, or specific numerical results, retain them in the abstract. Do not add personal opinions or restate this prompt. Use a formal academic tone. Introduction: With the rapid development of deep vision detection technology in artificial intelligence, detecting anomalies/defects on the surface of industrial products has received unprecedented attention.Changeover in manufacturing refers to converting a line or machine from processing one product to another.Since the equipment has not been completely fine-tuned after the start of the production line, changeover frequently results in unsatisfactory anomaly detection (AD) performance.How to achieve rapid training of industrial product models in the changeover scenario while assuring accurate anomaly detection is a critical issue in the actual production process.The current state of AD in the industry is as follows: (1) In terms of detection accuracy, the performance of state-ofthe-art (SOTA) AD models degrades dramatically during the changeover.Current mainstream work utilizes a considerable amount of training data as input to train the model, as shown in Fig. 1(a).However, this will make data collecting challenging, even for unsupervised learning.As a result, many approaches based on few-shot learning at the price of accuracy have been proposed.For instance, Huang et al. (2022) employ meta-learning, as shown in Fig. 1(b).While due to complicated settings, it is impossible to migrate to the new product during the changeover flexibly, and the detection accuracy cannot be guaranteed.(2) In terms of training speed, when a large amount of data is utilized for training, the training progress for new goods is slowed in the actual production line.As is well-known, vanilla unsupervised AD requires to collect a large amount of information.Even though meta-learning works in few-shot learning, as shown in Fig. 1(b), it is still necessary to train a massive portion of previously collected data.For our setting (c), there is no requirement to aggregate training categories in advance.The proposed model, vision isometric invariant GNN, can fast obtain the invariant feature within a few normal samples, and its accuracy outperforms models trained in a meta-learning context.We state that AD of industrial products requires just a small quantity of data to achieve performance comparable to a large amount of data, i.e., a small quantity of image data can contain sufficient information to represent a large number of data.Due to the fact that industrial products are manufactured with high stability (no evident distortion of shape and color cast), the taken images lack the diversity of natural images, and there is a problem with the shooting angle or rotation.Therefore, it is essential to extract rotation-invariant structural features.As graph neural networks (GNNs) are capable of robustly extracting non-serialized structural features (Han et al. (2022), Bruna et al. (2013), Hamilton et al. (2017), Xu et al. (2018)), and they integrate global information better and faster Wang et al. (2020); Li et al. (2020).They are more suited than convolution neural networks (CNNs) to handle the problem of extracting rotation-invariant features.For this reason, the core idea of the proposed GraphCore method in this paper is to use the visual isometric invariant features (VIIFs) as the anomaly measurement features.In the method using memory bank (M) as the AD paradigm, PatchCore (Roth et al. (2022)) uses ResNet (He et al. ( 2016)) as the feature extractor.However, since their features obtained by CNNs do not have rotation invariance (Dieleman et al. ( 2016)), a large number of redundant features are stored in M. Note that these redundant features maybe come from multiple rotation features of the same patch structure.It will hence require a huge quantity of training data to ensure the high accuracy of the test set.To avoid these redundant features, we propose VIIFs, which not only produce more robust visual features but also dramatically lower the size of M and accelerate detection.Based on the previous considerations, the goal of our work is to handle the cold start of the production line during the changeover.As shown in Fig. 1(c), a new FSAD method, called GraphCore, is developed that employs a small number of normal samples to accomplish fast training and competitive AD accuracy performance of the new product.On the one hand, by utilizing a small amount of data, we would rapidly train and accelerate the speed of anomaly inference.On the other hand, because we directly train new product samples, adaptation and migration of anomalies from the old product to the new product do not occur.Contributions.In summary, the main contributions of this work are as follows:• We present a feature-augmented method for FSAD in order to investigate the property of visual features generated by CNNs.• We propose a novel anomaly detection model, GraphCore, to add a new VIIF into the memory bank-based AD paradigm, which can drastically reduce the quantity of redundant visual features.• The experimental results show that the proposed VIIFs are effective and can significantly enhance the FSAD performance on MVTec AD and MPDD.Related Work.Few-shot anomaly detection (FSAD) is an attractive research topic.However, there are only a few papers devoted to the industrial image FSAD.Some works (Liznerski et al. (2020); Pang et al. (2021); Ding et al. (2022)) experiment with few-shot abnormal images in the test set, which contradicts our assumptions that no abnormal images existed.While others (Wu et al. (2021); Huang et al. (2022)) conduct experiments in a meta-learning setting.This configuration has the disadvantage of requiring a high number of base class images and being incapable of addressing the shortage of data under cold-start conditions in industrial applications.PatchCore (Roth et al. (2022)), SPADE (Cohen & Hoshen (2020)), and PaDiM (Defard et al. (2021)) investigated AD performance on MVTec AD in a few-shot setting.However, these approaches are not intended for changeover-based few-shot settings.Thus their performance cannot satisfy the requirements of manufacturing changeover.In this research, we propose a feature augmentation method for FSAD that can rapidly finish the training of anomaly detection models with a small quantity of data and meet manufacturing changeover requirements.\n"
     ]
    }
   ],
   "source": [
    "print(tokenizer.decode(tokenized_dataset[\"train\"][0][\"input_ids\"], skip_special_tokens=True))"
   ]
  },
  {
   "cell_type": "code",
   "execution_count": 11,
   "metadata": {
    "colab": {
     "base_uri": "https://localhost:8080/"
    },
    "id": "fVTV5htlzs4w",
    "outputId": "7dc5bae2-7694-471a-c5a1-0230c191b4d8"
   },
   "outputs": [
    {
     "name": "stdout",
     "output_type": "stream",
     "text": [
      "Total parameters: 247,577,856\n",
      "Approx. model size: 944.43 MB\n"
     ]
    }
   ],
   "source": [
    "from functools import reduce\n",
    "from operator import mul\n",
    "\n",
    "total_params = sum(p.numel() for p in model.parameters())\n",
    "total_size = sum(p.numel() * p.element_size() for p in model.parameters()) / (1024 ** 2)\n",
    "\n",
    "print(f\"Total parameters: {total_params:,}\")\n",
    "print(f\"Approx. model size: {total_size:.2f} MB\")"
   ]
  },
  {
   "cell_type": "code",
   "execution_count": 12,
   "metadata": {
    "colab": {
     "base_uri": "https://localhost:8080/",
     "height": 878
    },
    "id": "WFt6SRVZOo0U",
    "outputId": "8e12ffcb-da4e-4411-ae70-f15e12488651"
   },
   "outputs": [
    {
     "name": "stderr",
     "output_type": "stream",
     "text": [
      "/usr/local/lib/python3.11/dist-packages/transformers/training_args.py:1611: FutureWarning: `evaluation_strategy` is deprecated and will be removed in version 4.46 of 🤗 Transformers. Use `eval_strategy` instead\n",
      "  warnings.warn(\n",
      "<ipython-input-12-c1056ce4a39f>:35: FutureWarning: `tokenizer` is deprecated and will be removed in version 5.0.0 for `Seq2SeqTrainer.__init__`. Use `processing_class` instead.\n",
      "  trainer = Seq2SeqTrainer(\n",
      "`use_cache=True` is incompatible with gradient checkpointing. Setting `use_cache=False`...\n"
     ]
    },
    {
     "data": {
      "text/html": [
       "\n",
       "    <div>\n",
       "      \n",
       "      <progress value='7340' max='7340' style='width:300px; height:20px; vertical-align: middle;'></progress>\n",
       "      [7340/7340 40:14, Epoch 20/20]\n",
       "    </div>\n",
       "    <table border=\"1\" class=\"dataframe\">\n",
       "  <thead>\n",
       " <tr style=\"text-align: left;\">\n",
       "      <th>Epoch</th>\n",
       "      <th>Training Loss</th>\n",
       "      <th>Validation Loss</th>\n",
       "    </tr>\n",
       "  </thead>\n",
       "  <tbody>\n",
       "    <tr>\n",
       "      <td>1</td>\n",
       "      <td>4.093300</td>\n",
       "      <td>3.888575</td>\n",
       "    </tr>\n",
       "    <tr>\n",
       "      <td>2</td>\n",
       "      <td>3.753700</td>\n",
       "      <td>3.686254</td>\n",
       "    </tr>\n",
       "    <tr>\n",
       "      <td>3</td>\n",
       "      <td>3.753500</td>\n",
       "      <td>3.600255</td>\n",
       "    </tr>\n",
       "    <tr>\n",
       "      <td>4</td>\n",
       "      <td>3.566500</td>\n",
       "      <td>3.549841</td>\n",
       "    </tr>\n",
       "    <tr>\n",
       "      <td>5</td>\n",
       "      <td>3.525800</td>\n",
       "      <td>3.519753</td>\n",
       "    </tr>\n",
       "    <tr>\n",
       "      <td>6</td>\n",
       "      <td>3.479300</td>\n",
       "      <td>3.498767</td>\n",
       "    </tr>\n",
       "    <tr>\n",
       "      <td>7</td>\n",
       "      <td>3.482700</td>\n",
       "      <td>3.474402</td>\n",
       "    </tr>\n",
       "    <tr>\n",
       "      <td>8</td>\n",
       "      <td>3.479600</td>\n",
       "      <td>3.459363</td>\n",
       "    </tr>\n",
       "    <tr>\n",
       "      <td>9</td>\n",
       "      <td>3.264400</td>\n",
       "      <td>3.451548</td>\n",
       "    </tr>\n",
       "    <tr>\n",
       "      <td>10</td>\n",
       "      <td>3.346600</td>\n",
       "      <td>3.445214</td>\n",
       "    </tr>\n",
       "    <tr>\n",
       "      <td>11</td>\n",
       "      <td>3.293700</td>\n",
       "      <td>3.438559</td>\n",
       "    </tr>\n",
       "    <tr>\n",
       "      <td>12</td>\n",
       "      <td>3.271900</td>\n",
       "      <td>3.435253</td>\n",
       "    </tr>\n",
       "    <tr>\n",
       "      <td>13</td>\n",
       "      <td>3.397300</td>\n",
       "      <td>3.427507</td>\n",
       "    </tr>\n",
       "    <tr>\n",
       "      <td>14</td>\n",
       "      <td>3.130600</td>\n",
       "      <td>3.427839</td>\n",
       "    </tr>\n",
       "    <tr>\n",
       "      <td>15</td>\n",
       "      <td>3.126300</td>\n",
       "      <td>3.426774</td>\n",
       "    </tr>\n",
       "    <tr>\n",
       "      <td>16</td>\n",
       "      <td>3.193200</td>\n",
       "      <td>3.424143</td>\n",
       "    </tr>\n",
       "    <tr>\n",
       "      <td>17</td>\n",
       "      <td>3.239000</td>\n",
       "      <td>3.420817</td>\n",
       "    </tr>\n",
       "    <tr>\n",
       "      <td>18</td>\n",
       "      <td>3.283900</td>\n",
       "      <td>3.419465</td>\n",
       "    </tr>\n",
       "    <tr>\n",
       "      <td>19</td>\n",
       "      <td>3.310800</td>\n",
       "      <td>3.421821</td>\n",
       "    </tr>\n",
       "    <tr>\n",
       "      <td>20</td>\n",
       "      <td>3.226600</td>\n",
       "      <td>3.420483</td>\n",
       "    </tr>\n",
       "  </tbody>\n",
       "</table><p>"
      ],
      "text/plain": [
       "<IPython.core.display.HTML object>"
      ]
     },
     "metadata": {},
     "output_type": "display_data"
    },
    {
     "name": "stderr",
     "output_type": "stream",
     "text": [
      "Passing a tuple of `past_key_values` is deprecated and will be removed in Transformers v4.48.0. You should pass an instance of `EncoderDecoderCache` instead, e.g. `past_key_values=EncoderDecoderCache.from_legacy_cache(past_key_values)`.\n",
      "There were missing keys in the checkpoint model loaded: ['encoder.embed_tokens.weight', 'decoder.embed_tokens.weight'].\n"
     ]
    },
    {
     "data": {
      "text/plain": [
       "TrainOutput(global_step=7340, training_loss=3.425368244836376, metrics={'train_runtime': 2416.1696, 'train_samples_per_second': 3.038, 'train_steps_per_second': 3.038, 'total_flos': 2.010447586787328e+16, 'train_loss': 3.425368244836376, 'epoch': 20.0})"
      ]
     },
     "execution_count": 12,
     "metadata": {},
     "output_type": "execute_result"
    }
   ],
   "source": [
    "# === 訓練參數設定 ===\n",
    "training_args = Seq2SeqTrainingArguments(\n",
    "    output_dir=\"./t5_501\",\n",
    "    evaluation_strategy=\"epoch\",\n",
    "    save_strategy=\"epoch\",\n",
    "    logging_strategy=\"steps\",\n",
    "    logging_steps=10,\n",
    "    per_device_train_batch_size=1,\n",
    "    per_device_eval_batch_size=1,\n",
    "    learning_rate=2.5e-5,\n",
    "    num_train_epochs=20,\n",
    "    predict_with_generate=False,\n",
    "    fp16=False,\n",
    "    bf16=True,\n",
    "    save_total_limit=5,\n",
    "    load_best_model_at_end=True,\n",
    "    metric_for_best_model=\"eval_loss\",\n",
    "    label_smoothing_factor=0.1,\n",
    "    warmup_steps=500,\n",
    "    lr_scheduler_type=\"linear\",\n",
    "    greater_is_better=False,\n",
    "    report_to=\"none\",\n",
    "    seed=seed\n",
    ")\n",
    "\n",
    "# === Data collator（避免 loss 為 nan）===\n",
    "data_collator = DataCollatorForSeq2Seq(\n",
    "    tokenizer=tokenizer,\n",
    "    model=model,\n",
    "    label_pad_token_id=-100,\n",
    "    padding=True\n",
    ")\n",
    "\n",
    "# === 訓練器 Trainer ===\n",
    "trainer = Seq2SeqTrainer(\n",
    "    model=model,\n",
    "    args=training_args,\n",
    "    train_dataset=tokenized_dataset[\"train\"],\n",
    "    eval_dataset=tokenized_dataset[\"validation\"],\n",
    "    tokenizer=tokenizer,\n",
    "    data_collator=data_collator,\n",
    "    callbacks=[EarlyStoppingCallback(early_stopping_patience=2)]\n",
    ")\n",
    "\n",
    "trainer.train()"
   ]
  },
  {
   "cell_type": "code",
   "execution_count": 13,
   "metadata": {
    "colab": {
     "base_uri": "https://localhost:8080/"
    },
    "id": "akSwcNB9Oo0U",
    "outputId": "bc7c32ee-96f4-4929-bd5b-59b625cfdb68"
   },
   "outputs": [
    {
     "data": {
      "text/plain": [
       "('t5_504_final/tokenizer_config.json',\n",
       " 't5_504_final/special_tokens_map.json',\n",
       " 't5_504_final/spiece.model',\n",
       " 't5_504_final/added_tokens.json',\n",
       " 't5_504_final/tokenizer.json')"
      ]
     },
     "execution_count": 13,
     "metadata": {},
     "output_type": "execute_result"
    }
   ],
   "source": [
    "# 儲存本地備份\n",
    "trainer.save_model(\"t5_504_final\")\n",
    "tokenizer.save_pretrained(\"t5_504_final\")"
   ]
  },
  {
   "cell_type": "code",
   "execution_count": null,
   "metadata": {
    "colab": {
     "base_uri": "https://localhost:8080/",
     "height": 185,
     "referenced_widgets": [
      "cfa32ad0cd6d4537a2c89cd0a21e55ae",
      "8b9f769353fa4f8a863aaa8504ce5f62",
      "c4284ccd3fc44f92b0bdffdd435b2ded",
      "400bd1208c6b4eac95293f307dbd7e40",
      "c18600cf2d0b4aabaed0950cc3c58770",
      "fa20ae8a2f4749c3a997e9065f80a6e5",
      "921d0f87cdca45ed9ee0fccc3f92ef81",
      "c24a5ae4325644a68b3db7e23f795fc4",
      "c8150e5e8b134a48b50d20766c5c6a54",
      "8348faed924e45cab4c0c0eeab258ac1",
      "0c47c3a78cb14eb2a3dc710ddd745924",
      "f8f791ed093a457495d976e1570159e2",
      "78b25488782e42ea87d1f78d74d92d41",
      "227d7d6660f445d09882430a33cbcb88",
      "2d1678357b724e69898479363c3427e8",
      "1103c64f4f9b4958983bcdc2b86e72b2",
      "8933b5f1126640158cc8c97aca500eaf",
      "d0e7361654ba402389a402f5b13e4532",
      "53800705d95a418085cedfaed878a557",
      "3c76d760320142c0acabcef27eaa7f80",
      "f59bf6ffef7b414c913cd18bc07e5bde",
      "f592a1d8d3964dd6b0fc33d1dce8dbeb"
     ]
    },
    "id": "IoIMJUgXOo0U",
    "outputId": "3f89273c-bbed-4040-cdf3-525fb62de148"
   },
   "outputs": [
    {
     "data": {
      "application/vnd.jupyter.widget-view+json": {
       "model_id": "cfa32ad0cd6d4537a2c89cd0a21e55ae",
       "version_major": 2,
       "version_minor": 0
      },
      "text/plain": [
       "README.md:   0%|          | 0.00/5.17k [00:00<?, ?B/s]"
      ]
     },
     "metadata": {},
     "output_type": "display_data"
    },
    {
     "data": {
      "application/vnd.jupyter.widget-view+json": {
       "model_id": "f8f791ed093a457495d976e1570159e2",
       "version_major": 2,
       "version_minor": 0
      },
      "text/plain": [
       "model.safetensors:   0%|          | 0.00/990M [00:00<?, ?B/s]"
      ]
     },
     "metadata": {},
     "output_type": "display_data"
    },
    {
     "name": "stderr",
     "output_type": "stream",
     "text": [
      "No files have been modified since last commit. Skipping to prevent empty commit.\n",
      "WARNING:huggingface_hub.hf_api:No files have been modified since last commit. Skipping to prevent empty commit.\n"
     ]
    },
    {
     "data": {
      "application/vnd.google.colaboratory.intrinsic+json": {
       "type": "string"
      },
      "text/plain": [
       "CommitInfo(commit_url='https://huggingface.co/NCCUTAT/T5_nolora504/commit/53cc6f9dcd39b7cb5cbe7be58310342cf0878718', commit_message='Upload tokenizer', commit_description='', oid='53cc6f9dcd39b7cb5cbe7be58310342cf0878718', pr_url=None, repo_url=RepoUrl('https://huggingface.co/NCCUTAT/T5_nolora504', endpoint='https://huggingface.co', repo_type='model', repo_id='NCCUTAT/T5_nolora504'), pr_revision=None, pr_num=None)"
      ]
     },
     "execution_count": 44,
     "metadata": {},
     "output_type": "execute_result"
    }
   ],
   "source": [
    "# === 上傳模型到 Hugging Face Hub ===\n",
    "#from huggingface_hub import login\n",
    "#login(\"hf_xxxx\")\n",
    "\n",
    "#model.push_to_hub(\"xxxx/T504\")\n",
    "#tokenizer.push_to_hub(\"xxxx/T504\")"
   ]
  },
  {
   "cell_type": "code",
   "execution_count": 14,
   "metadata": {
    "colab": {
     "base_uri": "https://localhost:8080/",
     "height": 34
    },
    "id": "Bqr8uyV9IxRU",
    "outputId": "15a7e876-b1fe-4a91-db48-9438232f4dd3"
   },
   "outputs": [
    {
     "name": "stdout",
     "output_type": "stream",
     "text": [
      "找到最後一個 checkpoint: ./t5_504/checkpoint-7340\n"
     ]
    },
    {
     "data": {
      "application/javascript": [
       "\n",
       "    async function download(id, filename, size) {\n",
       "      if (!google.colab.kernel.accessAllowed) {\n",
       "        return;\n",
       "      }\n",
       "      const div = document.createElement('div');\n",
       "      const label = document.createElement('label');\n",
       "      label.textContent = `Downloading \"${filename}\": `;\n",
       "      div.appendChild(label);\n",
       "      const progress = document.createElement('progress');\n",
       "      progress.max = size;\n",
       "      div.appendChild(progress);\n",
       "      document.body.appendChild(div);\n",
       "\n",
       "      const buffers = [];\n",
       "      let downloaded = 0;\n",
       "\n",
       "      const channel = await google.colab.kernel.comms.open(id);\n",
       "      // Send a message to notify the kernel that we're ready.\n",
       "      channel.send({})\n",
       "\n",
       "      for await (const message of channel.messages) {\n",
       "        // Send a message to notify the kernel that we're ready.\n",
       "        channel.send({})\n",
       "        if (message.buffers) {\n",
       "          for (const buffer of message.buffers) {\n",
       "            buffers.push(buffer);\n",
       "            downloaded += buffer.byteLength;\n",
       "            progress.value = downloaded;\n",
       "          }\n",
       "        }\n",
       "      }\n",
       "      const blob = new Blob(buffers, {type: 'application/binary'});\n",
       "      const a = document.createElement('a');\n",
       "      a.href = window.URL.createObjectURL(blob);\n",
       "      a.download = filename;\n",
       "      div.appendChild(a);\n",
       "      a.click();\n",
       "      div.remove();\n",
       "    }\n",
       "  "
      ],
      "text/plain": [
       "<IPython.core.display.Javascript object>"
      ]
     },
     "metadata": {},
     "output_type": "display_data"
    },
    {
     "data": {
      "application/javascript": [
       "download(\"download_3c85d06c-b406-49dd-af0d-5d542af7bd0b\", \"checkpoint-7340.zip\", 2614862777)"
      ],
      "text/plain": [
       "<IPython.core.display.Javascript object>"
      ]
     },
     "metadata": {},
     "output_type": "display_data"
    }
   ],
   "source": [
    "checkpoint_dir = \"./t5_504\"\n",
    "\n",
    "checkpoints = [d for d in os.listdir(checkpoint_dir) if d.startswith(\"checkpoint-\")]\n",
    "\n",
    "if not checkpoints:\n",
    "    print(\"沒有找到任何 checkpoint，請確認 save_steps 設定！\")\n",
    "else:\n",
    "    last_checkpoint = sorted(checkpoints, key=lambda x: int(x.split(\"-\")[-1]))[-1]\n",
    "    last_checkpoint_path = os.path.join(checkpoint_dir, last_checkpoint)\n",
    "    print(f\"找到最後一個 checkpoint: {last_checkpoint_path}\")\n",
    "\n",
    "    zip_filename = f\"{last_checkpoint}.zip\"\n",
    "    shutil.make_archive(last_checkpoint, 'zip', last_checkpoint_path)\n",
    "\n",
    "    files.download(zip_filename)"
   ]
  },
  {
   "cell_type": "code",
   "execution_count": null,
   "metadata": {
    "id": "NXYkraOVI3b6"
   },
   "outputs": [],
   "source": [
    "zip_path = \"./checkpoint-7340.zip\"\n",
    "extract_dir = \"./checkpoint-7340.zip\"\n",
    "\n",
    "with zipfile.ZipFile(zip_path, 'r') as zip_ref:\n",
    "    zip_ref.extractall(extract_dir)\n",
    "\n",
    "checkpoint_path = extract_dir\n",
    "model = AutoModelForSeq2SeqLM.from_pretrained(checkpoint_path)\n",
    "tokenizer = AutoTokenizer.from_pretrained(checkpoint_path)"
   ]
  },
  {
   "cell_type": "code",
   "execution_count": null,
   "metadata": {
    "id": "AAc9rXg_Oo0V"
   },
   "outputs": [],
   "source": [
    "del model\n",
    "del tokenizer\n",
    "gc.collect()\n",
    "torch.cuda.empty_cache()"
   ]
  },
  {
   "cell_type": "markdown",
   "metadata": {
    "id": "lgZBgkpBOo0V"
   },
   "source": [
    "### 驗證"
   ]
  },
  {
   "cell_type": "code",
   "execution_count": null,
   "metadata": {
    "colab": {
     "base_uri": "https://localhost:8080/",
     "height": 241,
     "referenced_widgets": [
      "918681c3217e48e5a00a7e03faa65799",
      "eaa17a94c1914305a2f59c0ca1309895",
      "380f57358a684f0597832e79a4a9629e",
      "8a4ce1cdec634041ae619aaa2b89a42e",
      "9d928b5b594448608c4fbc041da299a0",
      "d44518248b244813b1f6356728543e98",
      "09a0220f02254cadb74231594d4e26ff",
      "fb1778ffc5294789874cd86e5c7f6580",
      "20b2d4742f554239997549ca0627a074",
      "1eaa03915f0949188b8368146b559eee",
      "2ea2ae9cfd96481c802c023996c4a1d2",
      "e01035b62539468a9e0e4a07e2e6cedb",
      "84449ea8578b43c59b86c379f7b1540b",
      "df4e9bbbb3d6481184acf55d3b9a1848",
      "57f00b06b76f422ea82cb26e36edaf15",
      "6b84e44a484d486ea1911a281c9e94a6",
      "25c1699e35164ff29177217fc22309c7",
      "d38f7387062549b684ae981357ce7e2e",
      "798890607e814c56b1430c29f86d07d4",
      "1c5f6d7c482a402eafa7a454958ada81",
      "42c2b05367ed4db48e05e09847cd6723",
      "80c07c2846fe4dff9c12c4339abf0913",
      "847bee6917174dd694ac252243b68ed5",
      "e75874eae08e430ca4d61a72f793389c",
      "307a4fbbd7e34c198ca4d47f05d3425f",
      "e8acfdcce95e4e7fb05f7f22c9de705e",
      "de533dcefc3341d8ad4ac0841ba4f799",
      "02602d09786b4403a24f6d132b2f59f7",
      "16027c28c71944c1a87a1253d6af0353",
      "8016ff1ae83b44f997e8c6b7142ff475",
      "6ec34c2ded47429f90f18a87b8e0d695",
      "15a7adc47aca40cab75464bdf35cbf6b",
      "548a72e5018f48e794bbd7cf9fa141fb",
      "19147444f936411983bee9ff591e6a90",
      "7b3ad09d731a430ba6c8811f1c0da57a",
      "f2b5f2270a534006bb5739b7b6eec28e",
      "07b2b343445d4e07bb647e038061736c",
      "f30a7f8ef3f14f02a18230c70f73c5ed",
      "633033ed4d5b4f108d5184b40b029049",
      "c7bd012eff0b4352b6a6fc9de0a336c1",
      "0ea498ab74344512be36de2857eee0d8",
      "a4c604f2f23b4087b1a3dfb67b629529",
      "be1a09e2354742019fcad4e310d1e565",
      "72d249d79fce4f1bbebfbc68c636282c",
      "e9b68b63005f48e0836fa998011bc3de",
      "e9b70937d17d4d6fa1fa672e8ed0dd2d",
      "5c4125584fb44aceb7565cb4d1ed82d0",
      "00cf080592fb47fb91a0069fcc4809c6",
      "80c6fdbb820a4bef97dbea791b04eb47",
      "cb312979c45c45bdaea2ebd86e0420c4",
      "60bf5006ff514c2f8945226542ecd0d5",
      "e5bbe1e7278a4b70bef993cd437e8761",
      "dbdfc9ef7c9a4ad39d65be6f0b4728f5",
      "58d6f307849940b48752a7f0cbac7a1e",
      "44434b0b83b541f180e4d765bf8c6f07",
      "8f167929be9345f4a1a502793e263770",
      "4945e4ea2d4140c8bcd7a1adca870791",
      "a0bd2dd37a6c40479aca705c554b24fb",
      "21617f4d492e4a939aa1a975f6736c43",
      "aec7b501bca84bd1a075563bdd968f2c",
      "7d9d89bb419943b1a8df0fbe92a27840",
      "22e2935fbec8489e94f6c1833c9678f9",
      "82accbbe240440878aed57ae52dfdc97",
      "db31e49017b04a00b7fdac444f4bb2bc",
      "4ce9cf99b30c404bab6a64848bffaec8",
      "08154e480dad48e4a8df4ae1a768f9b9",
      "d3501dfe884b4d30b02e092355f50044",
      "f219eb23a30a40c5b554f45a0c831c6e",
      "b846a35b16584bc689d1464650dc375c",
      "8f0b87c241284abda93f3ea4d6b0158b",
      "2db077daa50d4f2b83679b4977bac2c1",
      "4e6998f3a9854155acd697c8e1f00f4c",
      "d3d42965f7774631b768c13ee3eff619",
      "48d5784a2ace49669817060834484968",
      "bd40df61c95c4be38a885204605cbf5d",
      "10b4bb8efe534b69bfafbdc5a487578c",
      "e028c1ab6f3f46ec8a6a06b423e99db1"
     ]
    },
    "id": "x39TlPtMOo0V",
    "outputId": "191c6e95-ea58-4c72-b4dd-b5bc7e9b82ce"
   },
   "outputs": [
    {
     "data": {
      "application/vnd.jupyter.widget-view+json": {
       "model_id": "918681c3217e48e5a00a7e03faa65799",
       "version_major": 2,
       "version_minor": 0
      },
      "text/plain": [
       "config.json:   0%|          | 0.00/1.51k [00:00<?, ?B/s]"
      ]
     },
     "metadata": {},
     "output_type": "display_data"
    },
    {
     "data": {
      "application/vnd.jupyter.widget-view+json": {
       "model_id": "e01035b62539468a9e0e4a07e2e6cedb",
       "version_major": 2,
       "version_minor": 0
      },
      "text/plain": [
       "model.safetensors:   0%|          | 0.00/990M [00:00<?, ?B/s]"
      ]
     },
     "metadata": {},
     "output_type": "display_data"
    },
    {
     "data": {
      "application/vnd.jupyter.widget-view+json": {
       "model_id": "847bee6917174dd694ac252243b68ed5",
       "version_major": 2,
       "version_minor": 0
      },
      "text/plain": [
       "generation_config.json:   0%|          | 0.00/142 [00:00<?, ?B/s]"
      ]
     },
     "metadata": {},
     "output_type": "display_data"
    },
    {
     "data": {
      "application/vnd.jupyter.widget-view+json": {
       "model_id": "19147444f936411983bee9ff591e6a90",
       "version_major": 2,
       "version_minor": 0
      },
      "text/plain": [
       "tokenizer_config.json:   0%|          | 0.00/20.8k [00:00<?, ?B/s]"
      ]
     },
     "metadata": {},
     "output_type": "display_data"
    },
    {
     "data": {
      "application/vnd.jupyter.widget-view+json": {
       "model_id": "e9b68b63005f48e0836fa998011bc3de",
       "version_major": 2,
       "version_minor": 0
      },
      "text/plain": [
       "spiece.model:   0%|          | 0.00/792k [00:00<?, ?B/s]"
      ]
     },
     "metadata": {},
     "output_type": "display_data"
    },
    {
     "data": {
      "application/vnd.jupyter.widget-view+json": {
       "model_id": "8f167929be9345f4a1a502793e263770",
       "version_major": 2,
       "version_minor": 0
      },
      "text/plain": [
       "tokenizer.json:   0%|          | 0.00/2.42M [00:00<?, ?B/s]"
      ]
     },
     "metadata": {},
     "output_type": "display_data"
    },
    {
     "data": {
      "application/vnd.jupyter.widget-view+json": {
       "model_id": "d3501dfe884b4d30b02e092355f50044",
       "version_major": 2,
       "version_minor": 0
      },
      "text/plain": [
       "special_tokens_map.json:   0%|          | 0.00/2.54k [00:00<?, ?B/s]"
      ]
     },
     "metadata": {},
     "output_type": "display_data"
    }
   ],
   "source": [
    "from huggingface_hub import login\n",
    "login(\"hf_xxxx\")\n",
    "\n",
    "model = AutoModelForSeq2SeqLM.from_pretrained(\"xxxx/T504\")\n",
    "tokenizer = AutoTokenizer.from_pretrained(\"xxxx/T504\")"
   ]
  },
  {
   "cell_type": "code",
   "execution_count": null,
   "metadata": {
    "id": "DhxzoHlXOo0V"
   },
   "outputs": [],
   "source": [
    "model = AutoModelForSeq2SeqLM.from_pretrained(\"/content/t5_504_final\")\n",
    "tokenizer = AutoTokenizer.from_pretrained(\"/content/t5_504_final\")"
   ]
  },
  {
   "cell_type": "code",
   "execution_count": null,
   "metadata": {
    "colab": {
     "base_uri": "https://localhost:8080/"
    },
    "id": "o1MwBfO5Oo0V",
    "outputId": "e79d754e-c678-4f44-cb70-cd760d6d1f0e"
   },
   "outputs": [
    {
     "name": "stdout",
     "output_type": "stream",
     "text": [
      "Total parameters: 247,577,856\n",
      "Approx. model size: 944.43 MB\n"
     ]
    }
   ],
   "source": [
    "from functools import reduce\n",
    "from operator import mul\n",
    "\n",
    "total_params = sum(p.numel() for p in model.parameters())\n",
    "total_size = sum(p.numel() * p.element_size() for p in model.parameters()) / (1024 ** 2)\n",
    "\n",
    "print(f\"Total parameters: {total_params:,}\")\n",
    "print(f\"Approx. model size: {total_size:.2f} MB\")"
   ]
  },
  {
   "cell_type": "code",
   "execution_count": null,
   "metadata": {
    "id": "MXdNin6IOo0W"
   },
   "outputs": [],
   "source": [
    "# === 推理函式 ===\n",
    "def generate_summary(text):\n",
    "    prompt = (\n",
    "    \"You are a professional academic summarizer. \"\n",
    "    \"Write a precise and objective abstract for the following research introduction. \"\n",
    "    \"Do not include poetic or exaggerated language. \"\n",
    "    \"Only describe the main objectives, methods, and key findings of the paper. \"\n",
    "    \"If the text contains formulas, mathematical notations, or specific numerical results, retain them in the abstract. \"\n",
    "    \"Do not add personal opinions or restate this prompt. Use a formal academic tone.\\n\\n\"\n",
    "    \"Introduction: \"\n",
    "    )\n",
    "    input_text = prompt + text\n",
    "    inputs = tokenizer(input_text, return_tensors=\"pt\", truncation=True, max_length=max_input_length).to(model.device)\n",
    "    outputs = model.generate(\n",
    "    **inputs,\n",
    "    max_new_tokens=max_target_length,\n",
    "    min_length=200,\n",
    "    num_beams=4,\n",
    "    early_stopping=True,\n",
    "    repetition_penalty=1.2,\n",
    "    no_repeat_ngram_size=3,\n",
    ")\n",
    "    return tokenizer.decode(outputs[0], skip_special_tokens=True)"
   ]
  },
  {
   "cell_type": "code",
   "execution_count": null,
   "metadata": {
    "colab": {
     "base_uri": "https://localhost:8080/"
    },
    "id": "tm0nLFCUOo0W",
    "outputId": "ff267510-63ef-40a3-8b90-54712f0fa138"
   },
   "outputs": [
    {
     "name": "stdout",
     "output_type": "stream",
     "text": [
      "\n",
      "=== 驗證集摘要預測（前 3 筆） ===\n",
      "\n"
     ]
    },
    {
     "name": "stderr",
     "output_type": "stream",
     "text": [
      "Generating summaries: 100%|██████████| 41/41 [13:13<00:00, 19.35s/it]"
     ]
    },
    {
     "name": "stdout",
     "output_type": "stream",
     "text": [
      "------------------------------------------------------\n",
      "[Sample 1]\n",
      "\n",
      "▶ Prompt：\n",
      " You are a professional academic summarizer. Write a precise and objective abstract for the following research introduction. Do not include poetic or exaggerated language. Only describe the main objectives, methods, and key findings of the paper. If the text contains formulas, mathematical notations, or specific numerical results, retain them in the abstract. Do not add personal opinions or restate this prompt. Use a formal academic tone.\n",
      "\n",
      "Introduction: The channel configuration (a.k.a.. filter numbers or channel numbers) of a neural network plays a critical role in its affordability on resource constrained platforms, such as mobile phones, wearables and Internet of Things (IoT) devices.The most common constraints (Liu et al., 2017b;Huang et al., 2017;Wang et al., 2017;Han et al., 2015a), i.e., latency, FLOPs and runtime memory footprint, are all bound to the number of channels.For example, in a single convolution or fully-connected layer, the FLOPs (number of Multiply-Adds) increases linearly by the output channels.The memory footprint can also be reduced (Sandler et al., 2018) by reducing the number of channels in bottleneck convolutions for most vision applications (Sandler et al., 2018;Howard et al., 2017;Ma et al., 2018;Zhang et al., 2017b).Despite its importance, the number of channels has been chosen mostly based on heuristics.LeNet-5 (LeCun et al., 1998) selected 6 channels in its first convolution layer, which is then projected to 16 channels after sub-sampling.AlexNet (Krizhevsky et al., 2012) adopted five convolutions with channels equal to 96, 256, 384, 384 and 256.A commonly used heuristic, the \"half size, double channel\" rule, was introduced in VGG nets (Simonyan & Zisserman, 2014), if not earlier.The rule is that when spatial size of feature map is halved, the number of filters is doubled.This heuristic has been more-or-less used in followup network architecture designs including ResNets (He et al., 2016;Xie et al., 2017), Inception nets (Szegedy et al., 2015;2016;2017), MobileNets (Sandler et al., 2018;Howard et al., 2017) and networks for many vision applications.Other heuristics have also been explored.For example, the pyramidal rule (Han et al., 2017;Zhang et al., 2017a) suggested to gradually increase the channels in all convolutions layer by layer, regardless of spatial size.Figure 1 visually summarizes these heuristics for setting channel numbers in a neural network.Beyond the macro-level heuristics across entire network, recent works (Sandler et al., 2018;He et al., 2016;Zhang et al., 2017a;Tan et al., 2018;Cai et al., 2018) have also digged into channel configuration for micro-level building blocks (a network building block is usually composed of  Han et al., 2017;Zhang et al., 2017a), and inside network building blocks ((a) -(f )) (Sandler et al., 2018;He et al., 2016;Han et al., 2017;Zhang et al., 2017a;Tan et al., 2018;Cai et al., 2018).several 1 × 1 and 3 × 3 convolutions).These micro-level heuristics have led to better speed-accuracy trade-offs.The first of its kind, bottleneck residual block, was introduced in ResNet (He et al., 2016).It is composed of 1 × 1, 3 × 3, and 1 × 1 convolutions, where the 1 × 1 layers are responsible for reducing and then restoring dimensions, leaving the 3 × 3 layer a bottleneck (4× reduction).MobileNet v2 (Sandler et al., 2018), however, argued that the bottleneck design is not efficient and proposed the inverted residual block where 1 × 1 layers are used for expanding feature first (6× expansion) and then projecting back after intermediate 3 × 3 depthwise convolution.Furthermore, MNasNet (Tan et al., 2018) and ProxylessNAS nets (Cai et al., 2018) included 3× expansion version of inverted residual block into search space, and achieved even better accuracy under similar runtime latency.Apart from these human-designed heuristics, efforts on automatically optimizing channel configuration have been made explicitly or implicitly.A recent work (Liu et al., 2018c) suggested that many network pruning methods (Liu et al., 2017b;Li et al., 2016;Luo et al., 2017;He et al., 2017;Huang & Wang, 2018;Han et al., 2015b) can be thought of as performing network architecture search for channel numbers.Liu et al. (Liu et al., 2018c) showed that training these pruned architectures from scratch leads to similar or even better performance than fine-tuning and pruning from a large model.More recently, MNasNet (Tan et al., 2018) proposed to directly search network architectures, including filter sizes, using reinforcement learning algorithms (Schulman et al., 2017;Heess et al., 2017).Although the search is performed on the factorized hierarchical search space, massive network samples and computational cost (Tan et al., 2018) are required for an optimized network architecture.In this work, we study how to set channel numbers in a neural network to achieve better accuracy under constrained resources.To start, the first and the most brute-force approach came in mind is the exhaustive search: training all possible channel configurations of a deep neural network for full epochs (e.g., MobileNets (Sandler et al., 2018;Howard et al., 2017) are trained for approximately 480 epochs on ImageNet).Then we can simply select the best performers that are qualified for efficiency constraints.However, it is undoubtedly impractical since the cost of this brute-force approach is too high.For example, we consider a 8-layer convolutional networks and a search space limited to 10 candidates of channel numbers (e.g., 32, 64, ..., 320) for each layer.As a result, there are totally 10 8 candidate network architectures.To address this challenge, we present a simple and one-shot solution AutoSlim.Our main idea lies in training a slimmable network (Yu et al., 2018) to approximate the network accuracy of different channel configurations.Yu et al. (Yu et al., 2018;Yu & Huang, 2019) introduced slimmable networks that can run at arbitrary width with equally or even better performance than same architecture trained individually.Although the original motivation is to provide instant and adaptive accuracyefficiency trade-offs, we find slimmable networks are especially suitable as benchmark performance estimators for several reasons: (1) Training slimmable models (using the sandwich rule (Yu & Huang, 2019)) is much faster than the brute-force approach.(2) A trained slimmable model can execute at arbitrary width, which can be used to approximate relative performance among different channel configurations.(3) The same trained slimmable model can be applied on search of optimal channels for different resource constraints.In AutoSlim, we first train a slimmable model for a few epochs (e.g., 10% to 20% of full training epochs) to quickly get a benchmark performance estimator.We then iteratively evaluate the trained slimmable model and greedily slim the layer with minimal accuracy drop on validation set (for ImageNet, we randomly hold out 50K samples of training set as validation set).After this single pass, we can obtain the optimized channel configurations under different resource constraints (e.g., network FLOPs limited to 150M, 300M and 600M).Finally we train these optimized architectures individually or jointly (as a single slimmable network) for full training epochs.We experiment with various networks including MobileNet v1, MobileNet v2, ResNet-50 and RL-searched MNasNet on the challenging setting of 1000-class ImageNet classification.AutoSlim achieves better results (with much lower search cost) compared with three baselines: (1) the default channel configuration of these networks, (2) channel pruning methods on same network architectures (Luo et al., 2017;He et al., 2017;Yang et al., 2018) and (3) reinforcement learning based architecture search methods (He et al., 2018;Tan et al., 2018).\n",
      "\n",
      "▶ Ground Truth 摘要：\n",
      " In the ever-evolving realm of neural networks, where every resource counts and efficiency reigns supreme, we embark on a quest to discover the optimal number of channels—those vital conduits of information—that can elevate accuracy while navigating the treacherous waters of constrained resources like FLOPs, latency, memory footprint, and model size. Enter AutoSlim, a novel and straightforward approach that defies the conventional wisdom of training countless network samples or relying on the whims of reinforcement learning. Instead, we forge a singular slimmable network, a master of adaptability, capable of approximating the accuracy across various channel configurations with remarkable precision.  Through a series of iterative evaluations, we wield this trained slimmable model, deftly trimming layers with the lightest touch—those that promise minimal sacrifice in accuracy. This elegant, one-pass strategy reveals the optimized channel configurations tailored to diverse resource constraints, proving both efficient and effective.  Our experiments unfold across renowned architectures: MobileNet v1, MobileNet v2, ResNet-50, and the RL-searched MNasNet, all tested against the formidable challenge of ImageNet classification. The results are nothing short of transformative, showcasing significant advancements over their default channel settings. Notably, our AutoSlim-MobileNet-v2, operating at 305M FLOPs, achieves a remarkable 74.2% top-1 accuracy—2.4% higher than its default counterpart and even outshining the RL-searched MNasNet at 317M FLOPs by 0.2%. Similarly, our AutoSlim-ResNet-50, at 570M FLOPs and devoid of depthwise convolutions, surpasses MobileNet-v1 by 1.3%.  In this journey, we not only enhance performance but do so with a staggering 100X reduction in search cost compared to contemporary channel pruning and neural architecture search methods. Thus, we carve a new path forward, one where precision and resourcefulness intertwine seamlessly in the pursuit of neural network excellence.\n",
      "\n",
      "▶ 模型生成摘要：\n",
      " In the ever-evolving realm of machine learning, the quest to optimize the channel configuration of a neural network has long been fraught with challenges, such as resource constraints, FLOPs, and runtime memory footprint. In this paper, we embark on a quest to unravel the intricate tapestry of channel configuration within a deep neural network, unveiling a groundbreaking approach: the Slimmable Network. This innovative approach harnesses the power of slimmable models to approximate the network's performance across a diverse array of resource constraints. At the heart of AutoSlim lies a straightforward yet powerful solution: we train a slimmABLE model for a handful of epochs, allowing us to achieve a benchmark performance estimator in a matter of seconds. Through rigorous experimentation across various networks, including MobileNet, v1, MobileNet v2, ResNet-50, and RL-searched MNasNet, we demonstrate that our slimmably trained model not only achieves superior performance but also stands as a beacon of efficiency in the face of constrained resources. The results speak for themselves, illuminating the path forward in the quest for better network efficiency.\n",
      "------------------------------------------------------\n",
      "\n",
      "------------------------------------------------------\n",
      "[Sample 2]\n",
      "\n",
      "▶ Prompt：\n",
      " You are a professional academic summarizer. Write a precise and objective abstract for the following research introduction. Do not include poetic or exaggerated language. Only describe the main objectives, methods, and key findings of the paper. If the text contains formulas, mathematical notations, or specific numerical results, retain them in the abstract. Do not add personal opinions or restate this prompt. Use a formal academic tone.\n",
      "\n",
      "Introduction: Kernel methods are among the most powerful machine learning approaches with a wide range of successful applications (Schölkopf & Smola, 2018) which, however, suffer from scalability issues in large-scale problems, due to their high space and time complexities (with respect to the number of data n).To address this key limitation, a myriad of random features based kernel approximation techniques have been proposed (Rahimi & Recht, 2008;Liu et al., 2021a): random features methods randomly project the data to obtain low-dimensional nonlinear representations that approximate the original kernel features.This allows practitioners to apply them, with a large saving in both time and space, to various kernel-based downstream tasks such as kernel spectral clustering (Von Luxburg, 2007), kernel principal component analysis (Schölkopf et al., 1997), kernel canonical correlation analysis (Lai & Fyfe, 2000), kernel ridge regression (Vovk, 2013), to name a few.A wide variety of these kernels can be written, for data points x i , x j ∈ R p , in the form κ(x i , x j ) = E w σ w T x i σ w T x j(1) with w ∈ R p having i.i.d.entries, which can be \"well approximated\" by a sample mean 1 m m t=1 σ w T t x i σ w T t x j over m independent random features for m sufficiently large.For instance, taking σ(x) = [cos(x), sin(x)] and w with i.i.d.standard Gaussian entries, one obtains the popular Random Fourier Features (RFFs) that approximate the Gaussian kernel (and the As shall be seen subsequently, (random) neural networks are, to a large extent, connected to kernel matrices of the form (1).More specifically, the classification or regression performance at the output of random neural networks are functionals of random matrices that fall into the wide class of kernel random matrices.Perhaps more surprisingly, this connection still exists for deep neural networks which are (i) randomly initialized and (ii) trained with gradient descent, as testified by the recent works on neural tangent kernels (Jacot et al., 2018), by considering the \"infinitely many neurons\" limit, that is, the limit where the network widths of all layers go to infinity simultaneously.This close connection between neural networks and kernels has triggered a renewed interest for the theoretical investigation of deep neural networks from various perspectives, including optimization (Du et al., 2019;Chizat et al., 2019), generalization (Allen- Zhu et al., 2018;Arora et al., 2019;Bietti & Mairal, 2019), and learning dynamics (Lee et al., 2019;Advani et al., 2020;Liao & Couillet, 2018a).These works shed new light on the theoretical understanding of deep neural network models and specifically demonstrate the significance of studying networks with random weights and their associated kernels to assess the mechanisms underlying more elaborate deep networks.In this article, we consider the random feature kernel of the type (1), which can also be seen as the limiting kernel of a single-hidden-layer neural network with a random first layer.By assuming a high-dimensional Gaussian Mixture Model (GMM) for the data {x i } n i=1 with x i ∈ R p , we show that the centered kernel matrixfoot_0 K P{κ(x i , x j )} n i,j=1 P, P I n -is asymptotically (as n, p → ∞ with p/n → c ∈ (0, ∞)) equivalent, in a spectral sense, to another random kernel matrix K which depends on the GMM data statistics and the generalized Gaussian moments E[σ (z)], E[σ (z)] of the activation function σ(•), but is independent of the specific law of the i.i.d.entries of the random vector w, as long as they are normalized to have zero mean and unit variance.As such, one can design novel random features schemes with limiting kernels asymptotically equivalent to the original K.For instance, define κ ter (x i , x j ) E w ter σ ter x T i w ter σ ter x T j w ter(3) with w ter ∈ R p having i.i.d.entries taking value w ter i = 0 (with probability ) and valueeach with probability 1/2 -/2, where ∈ [0, 1) represents the level of sparsity of w, andfor some thresholds s -< s + chosen to match the generalized Gaussian moments E[σ (z)], E[σ (z)] of any σ function (e.g., ReLU, cos, sin) widely used in random features or neural network contexts.The proposed Ternary Random Features (TRFs, with limiting kernel matrices defined in (3) asymptotically \"matching\" any random features kernel matrices in a spectral sense) have the computational advantage of being sparse and not requiring multiplications but only additions, as well as the storage advantage of being composed of only a finite set of words, e.g., {-1, 0, 1} for = 0.Given the urgent need for environmentally-friendly, but still efficient, neural networks such as binary neural networks (Hubara et al., 2016;Lin et al., 2015;Zhu et al., 2016;Qin et al., 2020;Hubara et al., 2016), pruned neural networks (Liu et al., 2015;Han et al., 2015a;b), weights-quantized neural networks (Gupta et al., 2015;Gong et al., 2014), we hope that our analysis will open a new door to a random matrix-improved framework of computationally efficient methods for machine learning and neural network models more generally.10 5 10 6 10 7 10 8 0.6 0.7 0.8 Memory (bits) Accuracy LP-RFF (8 bit) LP-RFF (1 bit) Nyström (32 bits) Nyström (16 bits) Proposed TRF Figure 1: Test accuracy of logistic regression on quantized random features for different number of features m ∈ {102 , 10 3 , 5.10 3 , 10 4 , 5.10 4 }, with LP-RFF (8-bit and 1-bit, in black) (Zhang et al., 2019), Nyström approximation (32 bits in red, 16 bits in green) (Williams & Seeger, 2001), versus the proposed TRF approach (in blue), on the two-class Cov-Type dataset from UCI ML repo, with n = 418 000 training samples, n test = 116 000 test samples, and data dimension p = 54.\n",
      "\n",
      "▶ Ground Truth 摘要：\n",
      " In this article, we embark on an exploration of the spectral behavior of kernel matrices derived from random features, specifically of the form   \\[ {\\bf K} = \\mathbb{E}_{{\\bf w}} \\left[\\sigma\\left({\\bf w}^{\\sf T}{\\bf x}_i\\right)\\sigma\\left({\\bf w}^{\\sf T}{\\bf x}_j\\right)\\right]_{i,j=1}^n. \\]  Here, \\(\\sigma(\\cdot)\\) is a nonlinear function, the data points \\({\\bf x}_1, \\ldots, {\\bf x}_n\\) lie within \\(\\mathbb{R}^p\\), and the random projection vector \\({\\bf w}\\) is characterized by independent and identically distributed (i.i.d.) entries. In a high-dimensional landscape where both the number of data points \\(n\\) and their dimensionality \\(p\\) swell to significant proportions, we unveil a remarkable truth: under a Gaussian mixture model for our data, the eigenspectrum of the kernel matrix \\({\\bf K}\\) becomes agnostic to the specific distribution of the i.i.d. entries of \\({\\bf w}\\) (provided they are zero-mean and unit-variance). Instead, it hinges solely on the function \\(\\sigma(\\cdot)\\) through its generalized Gaussian moments, specifically \\(\\mathbb{E}_{z\\sim \\mathcal N(0,1)}[\\sigma'(z)]\\) and \\(\\mathbb{E}_{z\\sim \\mathcal N(0,1)}[\\sigma''(z)]\\).  From this foundation, we introduce a groundbreaking approach we term Ternary Random Features (TRFs). This innovative technique (i) asymptotically aligns the limiting kernel with the original \\({\\bf K}\\) in a spectral context, and (ii) offers a computational and storage efficiency that is markedly superior. By deftly tuning both the function \\(\\sigma\\) and the random vector \\({\\bf w}\\) to take values in \\(\\{-1,0,1\\}\\) in a manner that is responsive to the data, we eliminate the need for multiplication in our computations. This leads to a dramatic reduction in storage requirements—specifically, a factor of \\(b\\) fewer bits compared to traditional random features, where \\(b\\) represents the bit count needed to store full precision values.  Moreover, our experiments with real-world data reveal that these substantial computational and storage efficiencies are not merely theoretical; they coincide with enhanced performance relative to leading methods in the realm of random features. Thus, the Ternary Random Features stand as a beacon of innovation, promising both elegance and efficacy in the complex landscape of high-dimensional data analysis.\n",
      "\n",
      "▶ 模型生成摘要：\n",
      " In the ever-evolving realm of machine learning, the quest for efficient, computationally efficient deep neural networks has emerged as a beacon of hope, illuminating the path forward in the realm of deep learning. In this paper, we embark on a quest to unravel the intricate tapestry of random kernel approximation, revealing the intricate relationship between these networks and their limiting kernels. Our exploration reveals a remarkable truth: the random kernel matrices of the type (1) can be seen as the limiting Kernel (RRF) of a single-hidden-layer neural network with a random first layer. Through rigorous experimentation on the Cov-Type dataset, we unveil a groundbreaking approach: the Ternary Random Features (TRF), a framework designed to approximate the original Gaussian kernel features in a spectral manner. Our findings reveal that the centered kernel matrixfoot_0 K P(x i, x j) n i = 1 m t=1  w T t x J = 1 P, P I n-is asymptotically equivalent to another random kernel matrix K, relying on the GMM data statistics and the generalized Gaussie moments E[ (z)], E[  (Z)] of the activation function. Our analysis not only illuminates the underlying mechanisms of deep neural network models but also illuminates a path forward, paving the way for a new era of computational efficiency.\n",
      "------------------------------------------------------\n",
      "\n",
      "------------------------------------------------------\n",
      "[Sample 3]\n",
      "\n",
      "▶ Prompt：\n",
      " You are a professional academic summarizer. Write a precise and objective abstract for the following research introduction. Do not include poetic or exaggerated language. Only describe the main objectives, methods, and key findings of the paper. If the text contains formulas, mathematical notations, or specific numerical results, retain them in the abstract. Do not add personal opinions or restate this prompt. Use a formal academic tone.\n",
      "\n",
      "Introduction: Deep learning with neural networks (NNs) is a high-dimensional, non-convex optimisation problem for a loss function landscape (LFL).The coordinates of a minimum in the LFL are a set of weights for the machine learning model and a locally optimal solution to the learning problem, and these terms will therefore be used interchangeably throughout.It follows that the coordinates of the global minimum of the LFL are the weights that produce the lowest possible value of the loss function for the training data.The aim of machine learning is usually for the model to find a set of weights that fit the training data, but also generalise well to unseen testing data.Our approach extends this view.Instead of looking at just one minimum of the LFL, we are interested in the expressive power of multiple minima.To analyse how different minima extract and process information from the input data, we survey numerous low-lying minima of the LFL.Here, we employ tools from the energy landscape approach (Wales, 2003) to gain new insight into machine learning LFLs (Ballard et al., 2017).We note that the concept of a minimum is somewhat abstract in machine learning landscapes compared to molecular systems.While in a molecular energy landscape only minima provide valid configurations for a stable molecule, this restriction does not apply to LFLs for machine learning.In fact, some low-lying non-minima will have a smaller loss value and higher classification accuracy than a high-lying minimum.Here, we are interested in developing a better understanding of the capacity of diverse minima of the LFL, and showing that by combining the expressive power of different minima, we can build a better classifier.The compact form of this predictor provides a balance between accuracy and efficiency as required in applications where evaluation is a computational bottleneck.1.1 BACKGROUND Machine learning models are structurally limited in the amount of data they can fit: their capacity is finite.The most commonly known measure of capacity is perhaps the Vapnik-Chervonenkis (VC) dimension (Vapnik & Chervonenkis, 1971;Vapnik et al., 1994).The higher the VC dimension, the more complex are the data can be fitted.More rigorously, VC dimension is defined as the largest cardinality of a set of data points that the NN can shatter (for our purpose, shatter means classify correctly).Thus, the weights of an underparameterised model (i.e.fewer parameters than training data points) may be incapable of fitting the entire test data set, but instead fit just parts of it.The approach we employ to study the expressive power of combinations of individual minima is a variation of ensemble learning, where the results of multiple different predictors are combined to improve the overall accuracy of an approximation problem (Dong et al., 2020).The idea of combining multiple sources of information, specifically the output predictions of multiple classifiers, has been considered for over two decades (Breiman, 1996;Hashem, 1997;Jin & Lu, 2009).Two of the most important questions in ensemble learning are: which classifiers to consider, and how to combine the individual predictions (Wang, 2008).For a detailed review see Kuncheva (2014).\n",
      "\n",
      "▶ Ground Truth 摘要：\n",
      " In the vast and intricate landscape of neural networks, the minima of the loss function serve as hidden sanctuaries—local optimal sets of weights that deftly extract and process the myriad threads of input data, weaving them into predictions of outcomes. Yet, within the realm of underparameterized networks, these weights often lack the capacity to encompass every nuance of the information at hand.   Our exploration reveals a fascinating truth: distinct local minima develop unique specializations, each honing in on different facets of the learning conundrum and interpreting input data through their own lens. This phenomenon can be harnessed through the creation of a meta-network—an ingenious construct that amalgamates the predictive prowess of multiple minima from the loss function landscape, culminating in a more formidable classifier.   With this innovative approach, we observe a remarkable enhancement in performance, boosting the area under the receiver operating characteristic curve (AUC) by approximately 20% in the face of a complex learning challenge. We lay forth a theoretical framework for the synthesis of these minima, illustrating how a meta-network can be meticulously trained to discern which representative to invoke for the classification of a given data item.   Lastly, we delve into an analysis of symmetry-equivalent solutions to machine learning dilemmas, offering a systematic avenue to amplify the efficiency of our methodology. In this confluence of theory and practice, we unveil a path toward greater understanding and capability within the realm of neural networks.\n",
      "\n",
      "▶ 模型生成摘要：\n",
      " In the ever-evolving landscape of machine learning, we embark on a quest to unravel the intricate tapestry of a loss function landscape (LFL), revealing the intricate dance of weights that weave together the threads of training data with remarkable precision. Yet, as we navigate this intricate landscape, we find ourselves confronted with a formidable challenge: the expressive power of multiple minima. To unravel this complexity, we delve into the intricate landscape of low-lying minima of the LFL, examining their ability to extract and process information from the input data. Through rigorous experimentation, we demonstrate that our approach not only enhances the accuracy of our classifiers but also enhances their efficiency, paving the way for a more efficient and efficient machine learning landscape. Join us as we explore this fascinating landscape, illuminating the path forward in the quest for greater efficiency in machine learning. Moreover, we introduce a novel approach to ensemble learning, one that harnesses the power of diverse minima to craft a better classifier.\n",
      "------------------------------------------------------\n",
      "\n"
     ]
    },
    {
     "name": "stderr",
     "output_type": "stream",
     "text": [
      "\n"
     ]
    }
   ],
   "source": [
    "print(\"\\n=== 驗證集摘要預測（前 3 筆） ===\\n\")\n",
    "predictions = []\n",
    "references = []\n",
    "prompts = []\n",
    "\n",
    "for sample in tqdm(dataset[\"validation\"], desc=\"Generating summaries\"):\n",
    "    article = sample[\"introduction\"]\n",
    "    gt_abstract = sample.get(\"abstract\", \"\")\n",
    "    prompt = (\n",
    "    \"You are a professional academic summarizer. \"\n",
    "    \"Write a precise and objective abstract for the following research introduction. \"\n",
    "    \"Do not include poetic or exaggerated language. \"\n",
    "    \"Only describe the main objectives, methods, and key findings of the paper. \"\n",
    "    \"If the text contains formulas, mathematical notations, or specific numerical results, retain them in the abstract. \"\n",
    "    \"Do not add personal opinions or restate this prompt. Use a formal academic tone.\\n\\n\"\n",
    "    \"Introduction: \" + article\n",
    "    )\n",
    "\n",
    "    summary = generate_summary(article)\n",
    "    predictions.append(summary.strip())\n",
    "    prompts.append(prompt.strip())\n",
    "    references.append(gt_abstract.strip())\n",
    "\n",
    "for i in range(3):\n",
    "    print(\"------------------------------------------------------\")\n",
    "    print(f\"[Sample {i + 1}]\")\n",
    "    print(\"\\n▶ Prompt：\\n\", prompts[i])\n",
    "    print(\"\\n▶ Ground Truth 摘要：\\n\", references[i])\n",
    "    print(\"\\n▶ 模型生成摘要：\\n\", predictions[i])\n",
    "    print(\"------------------------------------------------------\\n\")"
   ]
  },
  {
   "cell_type": "code",
   "execution_count": null,
   "metadata": {
    "colab": {
     "base_uri": "https://localhost:8080/"
    },
    "id": "3QZVp-l8Oo0W",
    "outputId": "b59c9363-f801-4b4f-d8c6-969ddee90f43"
   },
   "outputs": [
    {
     "name": "stderr",
     "output_type": "stream",
     "text": [
      "Some weights of RobertaModel were not initialized from the model checkpoint at roberta-large and are newly initialized: ['pooler.dense.bias', 'pooler.dense.weight']\n",
      "You should probably TRAIN this model on a down-stream task to be able to use it for predictions and inference.\n"
     ]
    },
    {
     "name": "stdout",
     "output_type": "stream",
     "text": [
      "=== 評估結果===\n",
      "\n",
      "🔹 ROUGE Scores:\n",
      "  ROUGE-1: 0.4861\n",
      "  ROUGE-2: 0.1613\n",
      "  ROUGE-L: 0.2471\n",
      "\n",
      "🔹 BERTScore (Average):\n",
      "  Precision:  0.8795\n",
      "  Recall:     0.8596\n",
      "  F1 Score:   0.8694\n"
     ]
    }
   ],
   "source": [
    "metric_rouge = evaluate.load(\"rouge\", rouge_types=[\"rouge1\", \"rouge2\", \"rougeL\"])\n",
    "metric_bertscore = evaluate.load(\"bertscore\")\n",
    "\n",
    "ground_truths = references\n",
    "rouge = metric_rouge.compute(predictions=predictions, references=ground_truths, use_stemmer=True)\n",
    "bertscore = metric_bertscore.compute(predictions=predictions, references=ground_truths, lang=\"en\")\n",
    "\n",
    "print(\"=== 評估結果===\\n\")\n",
    "print(\"🔹 ROUGE Scores:\")\n",
    "print(f\"  ROUGE-1: {rouge['rouge1']:.4f}\")\n",
    "print(f\"  ROUGE-2: {rouge['rouge2']:.4f}\")\n",
    "print(f\"  ROUGE-L: {rouge['rougeL']:.4f}\")\n",
    "\n",
    "print(\"\\n🔹 BERTScore (Average):\")\n",
    "print(f\"  Precision:  {sum(bertscore['precision']) / len(bertscore['precision']):.4f}\")\n",
    "print(f\"  Recall:     {sum(bertscore['recall']) / len(bertscore['recall']):.4f}\")\n",
    "print(f\"  F1 Score:   {sum(bertscore['f1']) / len(bertscore['f1']):.4f}\")"
   ]
  },
  {
   "cell_type": "markdown",
   "metadata": {
    "id": "9AZQQj1aQWkf"
   },
   "source": [
    "### 預測"
   ]
  },
  {
   "cell_type": "code",
   "execution_count": null,
   "metadata": {
    "id": "ZSkMl8PNQWkh"
   },
   "outputs": [],
   "source": [
    "# === 載入並切分資料 ===\n",
    "with open(test_path, \"r\", encoding=\"utf-8\") as f:\n",
    "    test_data = [json.loads(line) for line in f]\n",
    "\n",
    "test_ds = Dataset.from_list(test_data)\n",
    "test_dataset = DatasetDict({\"test\":test_ds})"
   ]
  },
  {
   "cell_type": "code",
   "execution_count": null,
   "metadata": {
    "colab": {
     "base_uri": "https://localhost:8080/"
    },
    "id": "5FLp8Vo_QWki",
    "outputId": "1f3b45ce-784b-440f-aa5c-6eeb525ac927"
   },
   "outputs": [
    {
     "name": "stdout",
     "output_type": "stream",
     "text": [
      "Test data size: 103\n"
     ]
    }
   ],
   "source": [
    "print(\"Test data size:\", len(test_dataset[\"test\"]))"
   ]
  },
  {
   "cell_type": "code",
   "execution_count": null,
   "metadata": {
    "id": "33evVOSuQWkj"
   },
   "outputs": [],
   "source": [
    "# === 推理函式 ===\n",
    "def generate_summary(text):\n",
    "    prompt = (\n",
    "    \"You are a professional academic summarizer. \"\n",
    "    \"Write a precise and objective abstract for the following research introduction. \"\n",
    "    \"Do not include poetic or exaggerated language. \"\n",
    "    \"Only describe the main objectives, methods, and key findings of the paper. \"\n",
    "    \"If the text contains formulas, mathematical notations, or specific numerical results, retain them in the abstract. \"\n",
    "    \"Do not add personal opinions or restate this prompt. Use a formal academic tone.\\n\\n\"\n",
    "    \"Introduction: \"\n",
    "    )\n",
    "    input_text = prompt + text\n",
    "    inputs = tokenizer(input_text, return_tensors=\"pt\", truncation=True, max_length=max_input_length).to(model.device)\n",
    "    outputs = model.generate(\n",
    "    **inputs,\n",
    "    max_new_tokens=max_target_length,\n",
    "    min_length=200,\n",
    "    num_beams=4,\n",
    "    early_stopping=True,\n",
    "    repetition_penalty=1.2,\n",
    "    no_repeat_ngram_size=3,\n",
    ")\n",
    "    return tokenizer.decode(outputs[0], skip_special_tokens=True)"
   ]
  },
  {
   "cell_type": "code",
   "execution_count": null,
   "metadata": {
    "colab": {
     "base_uri": "https://localhost:8080/"
    },
    "id": "hz0JujgYQWkk",
    "outputId": "5281aef9-2e1e-460d-84f5-8d1ee2607f90"
   },
   "outputs": [
    {
     "name": "stderr",
     "output_type": "stream",
     "text": [
      "Generating summaries: 100%|██████████| 103/103 [12:35<00:00,  7.34s/it]\n"
     ]
    }
   ],
   "source": [
    "results = []\n",
    "for sample in tqdm(test_data, desc=\"Generating summaries\"):\n",
    "    paper_id = sample[\"paper_id\"]\n",
    "    intro = sample[\"introduction\"]\n",
    "    summary = generate_summary(intro)\n",
    "    results.append({\n",
    "        \"paper_id\": paper_id,\n",
    "        \"abstract\": summary.strip()\n",
    "    })"
   ]
  },
  {
   "cell_type": "code",
   "execution_count": null,
   "metadata": {
    "colab": {
     "base_uri": "https://localhost:8080/",
     "height": 17
    },
    "id": "1cNHnWl5QWkk",
    "outputId": "a09102d7-1ae2-4a37-bc4a-53cb346b56d1"
   },
   "outputs": [
    {
     "data": {
      "application/javascript": [
       "\n",
       "    async function download(id, filename, size) {\n",
       "      if (!google.colab.kernel.accessAllowed) {\n",
       "        return;\n",
       "      }\n",
       "      const div = document.createElement('div');\n",
       "      const label = document.createElement('label');\n",
       "      label.textContent = `Downloading \"${filename}\": `;\n",
       "      div.appendChild(label);\n",
       "      const progress = document.createElement('progress');\n",
       "      progress.max = size;\n",
       "      div.appendChild(progress);\n",
       "      document.body.appendChild(div);\n",
       "\n",
       "      const buffers = [];\n",
       "      let downloaded = 0;\n",
       "\n",
       "      const channel = await google.colab.kernel.comms.open(id);\n",
       "      // Send a message to notify the kernel that we're ready.\n",
       "      channel.send({})\n",
       "\n",
       "      for await (const message of channel.messages) {\n",
       "        // Send a message to notify the kernel that we're ready.\n",
       "        channel.send({})\n",
       "        if (message.buffers) {\n",
       "          for (const buffer of message.buffers) {\n",
       "            buffers.push(buffer);\n",
       "            downloaded += buffer.byteLength;\n",
       "            progress.value = downloaded;\n",
       "          }\n",
       "        }\n",
       "      }\n",
       "      const blob = new Blob(buffers, {type: 'application/binary'});\n",
       "      const a = document.createElement('a');\n",
       "      a.href = window.URL.createObjectURL(blob);\n",
       "      a.download = filename;\n",
       "      div.appendChild(a);\n",
       "      a.click();\n",
       "      div.remove();\n",
       "    }\n",
       "  "
      ],
      "text/plain": [
       "<IPython.core.display.Javascript object>"
      ]
     },
     "metadata": {},
     "output_type": "display_data"
    },
    {
     "data": {
      "application/javascript": [
       "download(\"download_fde8baf5-dabe-46fc-ac63-16de2ae03cab\", \"generated_abstractsT5_504.jsonl\", 131294)"
      ],
      "text/plain": [
       "<IPython.core.display.Javascript object>"
      ]
     },
     "metadata": {},
     "output_type": "display_data"
    }
   ],
   "source": [
    "from google.colab import files\n",
    "\n",
    "output_path = \"generated_abstractsT5_504.jsonl\"\n",
    "\n",
    "with open(output_path, \"w\", encoding=\"utf-8\") as f:\n",
    "    for item in results:\n",
    "        f.write(json.dumps(item, ensure_ascii=False) + \"\\n\")\n",
    "\n",
    "files.download(output_path)"
   ]
  }
 ],
 "metadata": {
  "accelerator": "GPU",
  "colab": {
   "gpuType": "A100",
   "machine_shape": "hm",
   "provenance": [],
   "toc_visible": true
  },
  "kernelspec": {
   "display_name": "Python 3 (ipykernel)",
   "language": "python",
   "name": "python3"
  },
  "language_info": {
   "codemirror_mode": {
    "name": "ipython",
    "version": 3
   },
   "file_extension": ".py",
   "mimetype": "text/x-python",
   "name": "python",
   "nbconvert_exporter": "python",
   "pygments_lexer": "ipython3",
   "version": "3.11.5"
  },
  "widgets": {
   "application/vnd.jupyter.widget-state+json": {
    "0107b69335c34bea9911ac18a814399f": {
     "model_module": "@jupyter-widgets/controls",
     "model_module_version": "1.5.0",
     "model_name": "HTMLModel",
     "state": {
      "_dom_classes": [],
      "_model_module": "@jupyter-widgets/controls",
      "_model_module_version": "1.5.0",
      "_model_name": "HTMLModel",
      "_view_count": null,
      "_view_module": "@jupyter-widgets/controls",
      "_view_module_version": "1.5.0",
      "_view_name": "HTMLView",
      "description": "",
      "description_tooltip": null,
      "layout": "IPY_MODEL_1cb4ed1d7e774619a8352b512d2fac0a",
      "placeholder": "​",
      "style": "IPY_MODEL_507f42e0f15c4fe89bc8dd4c9ae2879f",
      "value": " 147/147 [00:00&lt;00:00, 19.3kB/s]"
     }
    },
    "036ec170e8e34b489a8af125d74d28ad": {
     "model_module": "@jupyter-widgets/controls",
     "model_module_version": "1.5.0",
     "model_name": "HTMLModel",
     "state": {
      "_dom_classes": [],
      "_model_module": "@jupyter-widgets/controls",
      "_model_module_version": "1.5.0",
      "_model_name": "HTMLModel",
      "_view_count": null,
      "_view_module": "@jupyter-widgets/controls",
      "_view_module_version": "1.5.0",
      "_view_name": "HTMLView",
      "description": "",
      "description_tooltip": null,
      "layout": "IPY_MODEL_a2427da0de72441ca09da2af8592e7fc",
      "placeholder": "​",
      "style": "IPY_MODEL_fedf0327e74e47bbab30a1961a986a6e",
      "value": "config.json: 100%"
     }
    },
    "0402c4db34634a07a69075b111410c60": {
     "model_module": "@jupyter-widgets/controls",
     "model_module_version": "1.5.0",
     "model_name": "HTMLModel",
     "state": {
      "_dom_classes": [],
      "_model_module": "@jupyter-widgets/controls",
      "_model_module_version": "1.5.0",
      "_model_name": "HTMLModel",
      "_view_count": null,
      "_view_module": "@jupyter-widgets/controls",
      "_view_module_version": "1.5.0",
      "_view_name": "HTMLView",
      "description": "",
      "description_tooltip": null,
      "layout": "IPY_MODEL_08058962595645f3a52b4f7378073beb",
      "placeholder": "​",
      "style": "IPY_MODEL_2b2d7102315a446286da9aebb960ab1c",
      "value": "model.safetensors: 100%"
     }
    },
    "04e6f2db535745fea1f2a2b6cd6e5ebf": {
     "model_module": "@jupyter-widgets/base",
     "model_module_version": "1.2.0",
     "model_name": "LayoutModel",
     "state": {
      "_model_module": "@jupyter-widgets/base",
      "_model_module_version": "1.2.0",
      "_model_name": "LayoutModel",
      "_view_count": null,
      "_view_module": "@jupyter-widgets/base",
      "_view_module_version": "1.2.0",
      "_view_name": "LayoutView",
      "align_content": null,
      "align_items": null,
      "align_self": null,
      "border": null,
      "bottom": null,
      "display": null,
      "flex": null,
      "flex_flow": null,
      "grid_area": null,
      "grid_auto_columns": null,
      "grid_auto_flow": null,
      "grid_auto_rows": null,
      "grid_column": null,
      "grid_gap": null,
      "grid_row": null,
      "grid_template_areas": null,
      "grid_template_columns": null,
      "grid_template_rows": null,
      "height": null,
      "justify_content": null,
      "justify_items": null,
      "left": null,
      "margin": null,
      "max_height": null,
      "max_width": null,
      "min_height": null,
      "min_width": null,
      "object_fit": null,
      "object_position": null,
      "order": null,
      "overflow": null,
      "overflow_x": null,
      "overflow_y": null,
      "padding": null,
      "right": null,
      "top": null,
      "visibility": null,
      "width": null
     }
    },
    "05b2e50fe1984c0d8c2db5b89cd6200c": {
     "model_module": "@jupyter-widgets/controls",
     "model_module_version": "1.5.0",
     "model_name": "HTMLModel",
     "state": {
      "_dom_classes": [],
      "_model_module": "@jupyter-widgets/controls",
      "_model_module_version": "1.5.0",
      "_model_name": "HTMLModel",
      "_view_count": null,
      "_view_module": "@jupyter-widgets/controls",
      "_view_module_version": "1.5.0",
      "_view_name": "HTMLView",
      "description": "",
      "description_tooltip": null,
      "layout": "IPY_MODEL_2d4cdd2f258943bf92287624dc36df99",
      "placeholder": "​",
      "style": "IPY_MODEL_85ee85ef11ed4ea19c4dd619a9ae3d47",
      "value": "tokenizer_config.json: 100%"
     }
    },
    "08058962595645f3a52b4f7378073beb": {
     "model_module": "@jupyter-widgets/base",
     "model_module_version": "1.2.0",
     "model_name": "LayoutModel",
     "state": {
      "_model_module": "@jupyter-widgets/base",
      "_model_module_version": "1.2.0",
      "_model_name": "LayoutModel",
      "_view_count": null,
      "_view_module": "@jupyter-widgets/base",
      "_view_module_version": "1.2.0",
      "_view_name": "LayoutView",
      "align_content": null,
      "align_items": null,
      "align_self": null,
      "border": null,
      "bottom": null,
      "display": null,
      "flex": null,
      "flex_flow": null,
      "grid_area": null,
      "grid_auto_columns": null,
      "grid_auto_flow": null,
      "grid_auto_rows": null,
      "grid_column": null,
      "grid_gap": null,
      "grid_row": null,
      "grid_template_areas": null,
      "grid_template_columns": null,
      "grid_template_rows": null,
      "height": null,
      "justify_content": null,
      "justify_items": null,
      "left": null,
      "margin": null,
      "max_height": null,
      "max_width": null,
      "min_height": null,
      "min_width": null,
      "object_fit": null,
      "object_position": null,
      "order": null,
      "overflow": null,
      "overflow_x": null,
      "overflow_y": null,
      "padding": null,
      "right": null,
      "top": null,
      "visibility": null,
      "width": null
     }
    },
    "110612f807b94dc78478dd470b7161f0": {
     "model_module": "@jupyter-widgets/controls",
     "model_module_version": "1.5.0",
     "model_name": "HTMLModel",
     "state": {
      "_dom_classes": [],
      "_model_module": "@jupyter-widgets/controls",
      "_model_module_version": "1.5.0",
      "_model_name": "HTMLModel",
      "_view_count": null,
      "_view_module": "@jupyter-widgets/controls",
      "_view_module_version": "1.5.0",
      "_view_name": "HTMLView",
      "description": "",
      "description_tooltip": null,
      "layout": "IPY_MODEL_8faf081a2a0f4c5db5419e842cd4d012",
      "placeholder": "​",
      "style": "IPY_MODEL_122efd2000394e0aa3301363c3ba5aef",
      "value": "tokenizer.json: 100%"
     }
    },
    "11f7f994a1674c9695e8a5cd0844d641": {
     "model_module": "@jupyter-widgets/controls",
     "model_module_version": "1.5.0",
     "model_name": "HTMLModel",
     "state": {
      "_dom_classes": [],
      "_model_module": "@jupyter-widgets/controls",
      "_model_module_version": "1.5.0",
      "_model_name": "HTMLModel",
      "_view_count": null,
      "_view_module": "@jupyter-widgets/controls",
      "_view_module_version": "1.5.0",
      "_view_name": "HTMLView",
      "description": "",
      "description_tooltip": null,
      "layout": "IPY_MODEL_6652fac7d92541409267d325d65de557",
      "placeholder": "​",
      "style": "IPY_MODEL_e3b33eb8870a4c939f94ab46199d9793",
      "value": "Map: 100%"
     }
    },
    "122efd2000394e0aa3301363c3ba5aef": {
     "model_module": "@jupyter-widgets/controls",
     "model_module_version": "1.5.0",
     "model_name": "DescriptionStyleModel",
     "state": {
      "_model_module": "@jupyter-widgets/controls",
      "_model_module_version": "1.5.0",
      "_model_name": "DescriptionStyleModel",
      "_view_count": null,
      "_view_module": "@jupyter-widgets/base",
      "_view_module_version": "1.2.0",
      "_view_name": "StyleView",
      "description_width": ""
     }
    },
    "169317cc767348c9a522323f3f5f3b06": {
     "model_module": "@jupyter-widgets/controls",
     "model_module_version": "1.5.0",
     "model_name": "DescriptionStyleModel",
     "state": {
      "_model_module": "@jupyter-widgets/controls",
      "_model_module_version": "1.5.0",
      "_model_name": "DescriptionStyleModel",
      "_view_count": null,
      "_view_module": "@jupyter-widgets/base",
      "_view_module_version": "1.2.0",
      "_view_name": "StyleView",
      "description_width": ""
     }
    },
    "1cb4ed1d7e774619a8352b512d2fac0a": {
     "model_module": "@jupyter-widgets/base",
     "model_module_version": "1.2.0",
     "model_name": "LayoutModel",
     "state": {
      "_model_module": "@jupyter-widgets/base",
      "_model_module_version": "1.2.0",
      "_model_name": "LayoutModel",
      "_view_count": null,
      "_view_module": "@jupyter-widgets/base",
      "_view_module_version": "1.2.0",
      "_view_name": "LayoutView",
      "align_content": null,
      "align_items": null,
      "align_self": null,
      "border": null,
      "bottom": null,
      "display": null,
      "flex": null,
      "flex_flow": null,
      "grid_area": null,
      "grid_auto_columns": null,
      "grid_auto_flow": null,
      "grid_auto_rows": null,
      "grid_column": null,
      "grid_gap": null,
      "grid_row": null,
      "grid_template_areas": null,
      "grid_template_columns": null,
      "grid_template_rows": null,
      "height": null,
      "justify_content": null,
      "justify_items": null,
      "left": null,
      "margin": null,
      "max_height": null,
      "max_width": null,
      "min_height": null,
      "min_width": null,
      "object_fit": null,
      "object_position": null,
      "order": null,
      "overflow": null,
      "overflow_x": null,
      "overflow_y": null,
      "padding": null,
      "right": null,
      "top": null,
      "visibility": null,
      "width": null
     }
    },
    "1f7748c59900464e8a3b5dfceaa9a9f4": {
     "model_module": "@jupyter-widgets/controls",
     "model_module_version": "1.5.0",
     "model_name": "DescriptionStyleModel",
     "state": {
      "_model_module": "@jupyter-widgets/controls",
      "_model_module_version": "1.5.0",
      "_model_name": "DescriptionStyleModel",
      "_view_count": null,
      "_view_module": "@jupyter-widgets/base",
      "_view_module_version": "1.2.0",
      "_view_name": "StyleView",
      "description_width": ""
     }
    },
    "214dd9d0d5654ec99e5b487624090beb": {
     "model_module": "@jupyter-widgets/controls",
     "model_module_version": "1.5.0",
     "model_name": "HTMLModel",
     "state": {
      "_dom_classes": [],
      "_model_module": "@jupyter-widgets/controls",
      "_model_module_version": "1.5.0",
      "_model_name": "HTMLModel",
      "_view_count": null,
      "_view_module": "@jupyter-widgets/controls",
      "_view_module_version": "1.5.0",
      "_view_name": "HTMLView",
      "description": "",
      "description_tooltip": null,
      "layout": "IPY_MODEL_df9fc16de850435db81d366b61bdd202",
      "placeholder": "​",
      "style": "IPY_MODEL_cec305f4bd6046bfadd521806847889b",
      "value": "Map: 100%"
     }
    },
    "25cb751391434fdc8f4abf4abc5f48d0": {
     "model_module": "@jupyter-widgets/controls",
     "model_module_version": "1.5.0",
     "model_name": "DescriptionStyleModel",
     "state": {
      "_model_module": "@jupyter-widgets/controls",
      "_model_module_version": "1.5.0",
      "_model_name": "DescriptionStyleModel",
      "_view_count": null,
      "_view_module": "@jupyter-widgets/base",
      "_view_module_version": "1.2.0",
      "_view_name": "StyleView",
      "description_width": ""
     }
    },
    "2b2d7102315a446286da9aebb960ab1c": {
     "model_module": "@jupyter-widgets/controls",
     "model_module_version": "1.5.0",
     "model_name": "DescriptionStyleModel",
     "state": {
      "_model_module": "@jupyter-widgets/controls",
      "_model_module_version": "1.5.0",
      "_model_name": "DescriptionStyleModel",
      "_view_count": null,
      "_view_module": "@jupyter-widgets/base",
      "_view_module_version": "1.2.0",
      "_view_name": "StyleView",
      "description_width": ""
     }
    },
    "2b9d7bb18df5466f9efd929c573b0e7d": {
     "model_module": "@jupyter-widgets/controls",
     "model_module_version": "1.5.0",
     "model_name": "FloatProgressModel",
     "state": {
      "_dom_classes": [],
      "_model_module": "@jupyter-widgets/controls",
      "_model_module_version": "1.5.0",
      "_model_name": "FloatProgressModel",
      "_view_count": null,
      "_view_module": "@jupyter-widgets/controls",
      "_view_module_version": "1.5.0",
      "_view_name": "ProgressView",
      "bar_style": "success",
      "description": "",
      "description_tooltip": null,
      "layout": "IPY_MODEL_d8ba99134411482aa5972d5d80e1cba8",
      "max": 147,
      "min": 0,
      "orientation": "horizontal",
      "style": "IPY_MODEL_952d3ab36f3f49c787800e539eb69156",
      "value": 147
     }
    },
    "2d4cdd2f258943bf92287624dc36df99": {
     "model_module": "@jupyter-widgets/base",
     "model_module_version": "1.2.0",
     "model_name": "LayoutModel",
     "state": {
      "_model_module": "@jupyter-widgets/base",
      "_model_module_version": "1.2.0",
      "_model_name": "LayoutModel",
      "_view_count": null,
      "_view_module": "@jupyter-widgets/base",
      "_view_module_version": "1.2.0",
      "_view_name": "LayoutView",
      "align_content": null,
      "align_items": null,
      "align_self": null,
      "border": null,
      "bottom": null,
      "display": null,
      "flex": null,
      "flex_flow": null,
      "grid_area": null,
      "grid_auto_columns": null,
      "grid_auto_flow": null,
      "grid_auto_rows": null,
      "grid_column": null,
      "grid_gap": null,
      "grid_row": null,
      "grid_template_areas": null,
      "grid_template_columns": null,
      "grid_template_rows": null,
      "height": null,
      "justify_content": null,
      "justify_items": null,
      "left": null,
      "margin": null,
      "max_height": null,
      "max_width": null,
      "min_height": null,
      "min_width": null,
      "object_fit": null,
      "object_position": null,
      "order": null,
      "overflow": null,
      "overflow_x": null,
      "overflow_y": null,
      "padding": null,
      "right": null,
      "top": null,
      "visibility": null,
      "width": null
     }
    },
    "2eec527736e8401b93db89d278bef89a": {
     "model_module": "@jupyter-widgets/base",
     "model_module_version": "1.2.0",
     "model_name": "LayoutModel",
     "state": {
      "_model_module": "@jupyter-widgets/base",
      "_model_module_version": "1.2.0",
      "_model_name": "LayoutModel",
      "_view_count": null,
      "_view_module": "@jupyter-widgets/base",
      "_view_module_version": "1.2.0",
      "_view_name": "LayoutView",
      "align_content": null,
      "align_items": null,
      "align_self": null,
      "border": null,
      "bottom": null,
      "display": null,
      "flex": null,
      "flex_flow": null,
      "grid_area": null,
      "grid_auto_columns": null,
      "grid_auto_flow": null,
      "grid_auto_rows": null,
      "grid_column": null,
      "grid_gap": null,
      "grid_row": null,
      "grid_template_areas": null,
      "grid_template_columns": null,
      "grid_template_rows": null,
      "height": null,
      "justify_content": null,
      "justify_items": null,
      "left": null,
      "margin": null,
      "max_height": null,
      "max_width": null,
      "min_height": null,
      "min_width": null,
      "object_fit": null,
      "object_position": null,
      "order": null,
      "overflow": null,
      "overflow_x": null,
      "overflow_y": null,
      "padding": null,
      "right": null,
      "top": null,
      "visibility": null,
      "width": null
     }
    },
    "30947270f4cc436699067274ed4cbf29": {
     "model_module": "@jupyter-widgets/controls",
     "model_module_version": "1.5.0",
     "model_name": "HTMLModel",
     "state": {
      "_dom_classes": [],
      "_model_module": "@jupyter-widgets/controls",
      "_model_module_version": "1.5.0",
      "_model_name": "HTMLModel",
      "_view_count": null,
      "_view_module": "@jupyter-widgets/controls",
      "_view_module_version": "1.5.0",
      "_view_name": "HTMLView",
      "description": "",
      "description_tooltip": null,
      "layout": "IPY_MODEL_8214ab89d68b43b584d403c9e7a2995a",
      "placeholder": "​",
      "style": "IPY_MODEL_617f6c900faa4b0d80ed249b08a52cc2",
      "value": "generation_config.json: 100%"
     }
    },
    "3442496575de4178ae9a425f62e62945": {
     "model_module": "@jupyter-widgets/base",
     "model_module_version": "1.2.0",
     "model_name": "LayoutModel",
     "state": {
      "_model_module": "@jupyter-widgets/base",
      "_model_module_version": "1.2.0",
      "_model_name": "LayoutModel",
      "_view_count": null,
      "_view_module": "@jupyter-widgets/base",
      "_view_module_version": "1.2.0",
      "_view_name": "LayoutView",
      "align_content": null,
      "align_items": null,
      "align_self": null,
      "border": null,
      "bottom": null,
      "display": null,
      "flex": null,
      "flex_flow": null,
      "grid_area": null,
      "grid_auto_columns": null,
      "grid_auto_flow": null,
      "grid_auto_rows": null,
      "grid_column": null,
      "grid_gap": null,
      "grid_row": null,
      "grid_template_areas": null,
      "grid_template_columns": null,
      "grid_template_rows": null,
      "height": null,
      "justify_content": null,
      "justify_items": null,
      "left": null,
      "margin": null,
      "max_height": null,
      "max_width": null,
      "min_height": null,
      "min_width": null,
      "object_fit": null,
      "object_position": null,
      "order": null,
      "overflow": null,
      "overflow_x": null,
      "overflow_y": null,
      "padding": null,
      "right": null,
      "top": null,
      "visibility": null,
      "width": null
     }
    },
    "387a26411c8a441eaa621996f239cb51": {
     "model_module": "@jupyter-widgets/controls",
     "model_module_version": "1.5.0",
     "model_name": "HBoxModel",
     "state": {
      "_dom_classes": [],
      "_model_module": "@jupyter-widgets/controls",
      "_model_module_version": "1.5.0",
      "_model_name": "HBoxModel",
      "_view_count": null,
      "_view_module": "@jupyter-widgets/controls",
      "_view_module_version": "1.5.0",
      "_view_name": "HBoxView",
      "box_style": "",
      "children": [
       "IPY_MODEL_30947270f4cc436699067274ed4cbf29",
       "IPY_MODEL_2b9d7bb18df5466f9efd929c573b0e7d",
       "IPY_MODEL_0107b69335c34bea9911ac18a814399f"
      ],
      "layout": "IPY_MODEL_670de8a730204f4ab21a0b5009732b46"
     }
    },
    "38d00afad5d646248d4a0ef39d2c6bd8": {
     "model_module": "@jupyter-widgets/controls",
     "model_module_version": "1.5.0",
     "model_name": "HTMLModel",
     "state": {
      "_dom_classes": [],
      "_model_module": "@jupyter-widgets/controls",
      "_model_module_version": "1.5.0",
      "_model_name": "HTMLModel",
      "_view_count": null,
      "_view_module": "@jupyter-widgets/controls",
      "_view_module_version": "1.5.0",
      "_view_name": "HTMLView",
      "description": "",
      "description_tooltip": null,
      "layout": "IPY_MODEL_63a15ec614e8487c90ce900c9653c0a4",
      "placeholder": "​",
      "style": "IPY_MODEL_3c64681f310b4744b5473ca0d27f6873",
      "value": " 2.20k/2.20k [00:00&lt;00:00, 158kB/s]"
     }
    },
    "3c64681f310b4744b5473ca0d27f6873": {
     "model_module": "@jupyter-widgets/controls",
     "model_module_version": "1.5.0",
     "model_name": "DescriptionStyleModel",
     "state": {
      "_model_module": "@jupyter-widgets/controls",
      "_model_module_version": "1.5.0",
      "_model_name": "DescriptionStyleModel",
      "_view_count": null,
      "_view_module": "@jupyter-widgets/base",
      "_view_module_version": "1.2.0",
      "_view_name": "StyleView",
      "description_width": ""
     }
    },
    "3e09bf91dc4f4193abaca0ae01112543": {
     "model_module": "@jupyter-widgets/controls",
     "model_module_version": "1.5.0",
     "model_name": "FloatProgressModel",
     "state": {
      "_dom_classes": [],
      "_model_module": "@jupyter-widgets/controls",
      "_model_module_version": "1.5.0",
      "_model_name": "FloatProgressModel",
      "_view_count": null,
      "_view_module": "@jupyter-widgets/controls",
      "_view_module_version": "1.5.0",
      "_view_name": "ProgressView",
      "bar_style": "success",
      "description": "",
      "description_tooltip": null,
      "layout": "IPY_MODEL_b4f5bd8d2c49449f8d122da99a8fd199",
      "max": 2537,
      "min": 0,
      "orientation": "horizontal",
      "style": "IPY_MODEL_714a1621331e4babab9d2b4d70dbe184",
      "value": 2537
     }
    },
    "47aa9597953c402e931e09dffdf696b0": {
     "model_module": "@jupyter-widgets/controls",
     "model_module_version": "1.5.0",
     "model_name": "FloatProgressModel",
     "state": {
      "_dom_classes": [],
      "_model_module": "@jupyter-widgets/controls",
      "_model_module_version": "1.5.0",
      "_model_name": "FloatProgressModel",
      "_view_count": null,
      "_view_module": "@jupyter-widgets/controls",
      "_view_module_version": "1.5.0",
      "_view_name": "ProgressView",
      "bar_style": "success",
      "description": "",
      "description_tooltip": null,
      "layout": "IPY_MODEL_5c522ba831e14fbb8360052fc7efc676",
      "max": 791656,
      "min": 0,
      "orientation": "horizontal",
      "style": "IPY_MODEL_85e43045e6bc48b0ae83c6ae122cd9cb",
      "value": 791656
     }
    },
    "4f124f41d21542e3ad4efd0c3744a90a": {
     "model_module": "@jupyter-widgets/controls",
     "model_module_version": "1.5.0",
     "model_name": "ProgressStyleModel",
     "state": {
      "_model_module": "@jupyter-widgets/controls",
      "_model_module_version": "1.5.0",
      "_model_name": "ProgressStyleModel",
      "_view_count": null,
      "_view_module": "@jupyter-widgets/base",
      "_view_module_version": "1.2.0",
      "_view_name": "StyleView",
      "bar_color": null,
      "description_width": ""
     }
    },
    "507f42e0f15c4fe89bc8dd4c9ae2879f": {
     "model_module": "@jupyter-widgets/controls",
     "model_module_version": "1.5.0",
     "model_name": "DescriptionStyleModel",
     "state": {
      "_model_module": "@jupyter-widgets/controls",
      "_model_module_version": "1.5.0",
      "_model_name": "DescriptionStyleModel",
      "_view_count": null,
      "_view_module": "@jupyter-widgets/base",
      "_view_module_version": "1.2.0",
      "_view_name": "StyleView",
      "description_width": ""
     }
    },
    "511bb6cd32a140fea75231dc629d53ac": {
     "model_module": "@jupyter-widgets/controls",
     "model_module_version": "1.5.0",
     "model_name": "DescriptionStyleModel",
     "state": {
      "_model_module": "@jupyter-widgets/controls",
      "_model_module_version": "1.5.0",
      "_model_name": "DescriptionStyleModel",
      "_view_count": null,
      "_view_module": "@jupyter-widgets/base",
      "_view_module_version": "1.2.0",
      "_view_name": "StyleView",
      "description_width": ""
     }
    },
    "55e66fd5adf54e9285ba5a0f84cc37de": {
     "model_module": "@jupyter-widgets/controls",
     "model_module_version": "1.5.0",
     "model_name": "HTMLModel",
     "state": {
      "_dom_classes": [],
      "_model_module": "@jupyter-widgets/controls",
      "_model_module_version": "1.5.0",
      "_model_name": "HTMLModel",
      "_view_count": null,
      "_view_module": "@jupyter-widgets/controls",
      "_view_module_version": "1.5.0",
      "_view_name": "HTMLView",
      "description": "",
      "description_tooltip": null,
      "layout": "IPY_MODEL_fb64086f88174f21a5db4ffa4c4cfa82",
      "placeholder": "​",
      "style": "IPY_MODEL_511bb6cd32a140fea75231dc629d53ac",
      "value": " 367/367 [00:03&lt;00:00, 127.20 examples/s]"
     }
    },
    "57054f9052b549b59cd757a164f6ea71": {
     "model_module": "@jupyter-widgets/controls",
     "model_module_version": "1.5.0",
     "model_name": "HTMLModel",
     "state": {
      "_dom_classes": [],
      "_model_module": "@jupyter-widgets/controls",
      "_model_module_version": "1.5.0",
      "_model_name": "HTMLModel",
      "_view_count": null,
      "_view_module": "@jupyter-widgets/controls",
      "_view_module_version": "1.5.0",
      "_view_name": "HTMLView",
      "description": "",
      "description_tooltip": null,
      "layout": "IPY_MODEL_ef576166db054b7b8ff1b305e0bcbd6b",
      "placeholder": "​",
      "style": "IPY_MODEL_6d8d9b31eaf24332b244b07d037d00c4",
      "value": "special_tokens_map.json: 100%"
     }
    },
    "573402794d784b0c8e67e3040c13f0a1": {
     "model_module": "@jupyter-widgets/controls",
     "model_module_version": "1.5.0",
     "model_name": "FloatProgressModel",
     "state": {
      "_dom_classes": [],
      "_model_module": "@jupyter-widgets/controls",
      "_model_module_version": "1.5.0",
      "_model_name": "FloatProgressModel",
      "_view_count": null,
      "_view_module": "@jupyter-widgets/controls",
      "_view_module_version": "1.5.0",
      "_view_name": "ProgressView",
      "bar_style": "success",
      "description": "",
      "description_tooltip": null,
      "layout": "IPY_MODEL_fc77e2cee7f64a2594c8835c750d62a5",
      "max": 2424064,
      "min": 0,
      "orientation": "horizontal",
      "style": "IPY_MODEL_914dc2e3b6014b1a872d92d55aeaa315",
      "value": 2424064
     }
    },
    "5c522ba831e14fbb8360052fc7efc676": {
     "model_module": "@jupyter-widgets/base",
     "model_module_version": "1.2.0",
     "model_name": "LayoutModel",
     "state": {
      "_model_module": "@jupyter-widgets/base",
      "_model_module_version": "1.2.0",
      "_model_name": "LayoutModel",
      "_view_count": null,
      "_view_module": "@jupyter-widgets/base",
      "_view_module_version": "1.2.0",
      "_view_name": "LayoutView",
      "align_content": null,
      "align_items": null,
      "align_self": null,
      "border": null,
      "bottom": null,
      "display": null,
      "flex": null,
      "flex_flow": null,
      "grid_area": null,
      "grid_auto_columns": null,
      "grid_auto_flow": null,
      "grid_auto_rows": null,
      "grid_column": null,
      "grid_gap": null,
      "grid_row": null,
      "grid_template_areas": null,
      "grid_template_columns": null,
      "grid_template_rows": null,
      "height": null,
      "justify_content": null,
      "justify_items": null,
      "left": null,
      "margin": null,
      "max_height": null,
      "max_width": null,
      "min_height": null,
      "min_width": null,
      "object_fit": null,
      "object_position": null,
      "order": null,
      "overflow": null,
      "overflow_x": null,
      "overflow_y": null,
      "padding": null,
      "right": null,
      "top": null,
      "visibility": null,
      "width": null
     }
    },
    "5e1078924f5441d1bc9696b18b4aa50a": {
     "model_module": "@jupyter-widgets/controls",
     "model_module_version": "1.5.0",
     "model_name": "HBoxModel",
     "state": {
      "_dom_classes": [],
      "_model_module": "@jupyter-widgets/controls",
      "_model_module_version": "1.5.0",
      "_model_name": "HBoxModel",
      "_view_count": null,
      "_view_module": "@jupyter-widgets/controls",
      "_view_module_version": "1.5.0",
      "_view_name": "HBoxView",
      "box_style": "",
      "children": [
       "IPY_MODEL_214dd9d0d5654ec99e5b487624090beb",
       "IPY_MODEL_f40a592feabe4d2b81aa0b6d832281fa",
       "IPY_MODEL_55e66fd5adf54e9285ba5a0f84cc37de"
      ],
      "layout": "IPY_MODEL_ca1d03a0686d493cb75f3af63a31b639"
     }
    },
    "6047adc2996843fbbe6ade3dcee5230f": {
     "model_module": "@jupyter-widgets/controls",
     "model_module_version": "1.5.0",
     "model_name": "ProgressStyleModel",
     "state": {
      "_model_module": "@jupyter-widgets/controls",
      "_model_module_version": "1.5.0",
      "_model_name": "ProgressStyleModel",
      "_view_count": null,
      "_view_module": "@jupyter-widgets/base",
      "_view_module_version": "1.2.0",
      "_view_name": "StyleView",
      "bar_color": null,
      "description_width": ""
     }
    },
    "617f6c900faa4b0d80ed249b08a52cc2": {
     "model_module": "@jupyter-widgets/controls",
     "model_module_version": "1.5.0",
     "model_name": "DescriptionStyleModel",
     "state": {
      "_model_module": "@jupyter-widgets/controls",
      "_model_module_version": "1.5.0",
      "_model_name": "DescriptionStyleModel",
      "_view_count": null,
      "_view_module": "@jupyter-widgets/base",
      "_view_module_version": "1.2.0",
      "_view_name": "StyleView",
      "description_width": ""
     }
    },
    "62b641882c604c458d819f0120ff1091": {
     "model_module": "@jupyter-widgets/controls",
     "model_module_version": "1.5.0",
     "model_name": "HBoxModel",
     "state": {
      "_dom_classes": [],
      "_model_module": "@jupyter-widgets/controls",
      "_model_module_version": "1.5.0",
      "_model_name": "HBoxModel",
      "_view_count": null,
      "_view_module": "@jupyter-widgets/controls",
      "_view_module_version": "1.5.0",
      "_view_name": "HBoxView",
      "box_style": "",
      "children": [
       "IPY_MODEL_6f0058df5aca46bdbfc5ef9234167dcb",
       "IPY_MODEL_47aa9597953c402e931e09dffdf696b0",
       "IPY_MODEL_9b30879aa4ba4ba788e70248d8dc07ec"
      ],
      "layout": "IPY_MODEL_9ae99e617c3c4446ada5b7ae82a878d9"
     }
    },
    "63071d55accc4bd7a35b55dd29f04435": {
     "model_module": "@jupyter-widgets/base",
     "model_module_version": "1.2.0",
     "model_name": "LayoutModel",
     "state": {
      "_model_module": "@jupyter-widgets/base",
      "_model_module_version": "1.2.0",
      "_model_name": "LayoutModel",
      "_view_count": null,
      "_view_module": "@jupyter-widgets/base",
      "_view_module_version": "1.2.0",
      "_view_name": "LayoutView",
      "align_content": null,
      "align_items": null,
      "align_self": null,
      "border": null,
      "bottom": null,
      "display": null,
      "flex": null,
      "flex_flow": null,
      "grid_area": null,
      "grid_auto_columns": null,
      "grid_auto_flow": null,
      "grid_auto_rows": null,
      "grid_column": null,
      "grid_gap": null,
      "grid_row": null,
      "grid_template_areas": null,
      "grid_template_columns": null,
      "grid_template_rows": null,
      "height": null,
      "justify_content": null,
      "justify_items": null,
      "left": null,
      "margin": null,
      "max_height": null,
      "max_width": null,
      "min_height": null,
      "min_width": null,
      "object_fit": null,
      "object_position": null,
      "order": null,
      "overflow": null,
      "overflow_x": null,
      "overflow_y": null,
      "padding": null,
      "right": null,
      "top": null,
      "visibility": null,
      "width": null
     }
    },
    "63a15ec614e8487c90ce900c9653c0a4": {
     "model_module": "@jupyter-widgets/base",
     "model_module_version": "1.2.0",
     "model_name": "LayoutModel",
     "state": {
      "_model_module": "@jupyter-widgets/base",
      "_model_module_version": "1.2.0",
      "_model_name": "LayoutModel",
      "_view_count": null,
      "_view_module": "@jupyter-widgets/base",
      "_view_module_version": "1.2.0",
      "_view_name": "LayoutView",
      "align_content": null,
      "align_items": null,
      "align_self": null,
      "border": null,
      "bottom": null,
      "display": null,
      "flex": null,
      "flex_flow": null,
      "grid_area": null,
      "grid_auto_columns": null,
      "grid_auto_flow": null,
      "grid_auto_rows": null,
      "grid_column": null,
      "grid_gap": null,
      "grid_row": null,
      "grid_template_areas": null,
      "grid_template_columns": null,
      "grid_template_rows": null,
      "height": null,
      "justify_content": null,
      "justify_items": null,
      "left": null,
      "margin": null,
      "max_height": null,
      "max_width": null,
      "min_height": null,
      "min_width": null,
      "object_fit": null,
      "object_position": null,
      "order": null,
      "overflow": null,
      "overflow_x": null,
      "overflow_y": null,
      "padding": null,
      "right": null,
      "top": null,
      "visibility": null,
      "width": null
     }
    },
    "6652fac7d92541409267d325d65de557": {
     "model_module": "@jupyter-widgets/base",
     "model_module_version": "1.2.0",
     "model_name": "LayoutModel",
     "state": {
      "_model_module": "@jupyter-widgets/base",
      "_model_module_version": "1.2.0",
      "_model_name": "LayoutModel",
      "_view_count": null,
      "_view_module": "@jupyter-widgets/base",
      "_view_module_version": "1.2.0",
      "_view_name": "LayoutView",
      "align_content": null,
      "align_items": null,
      "align_self": null,
      "border": null,
      "bottom": null,
      "display": null,
      "flex": null,
      "flex_flow": null,
      "grid_area": null,
      "grid_auto_columns": null,
      "grid_auto_flow": null,
      "grid_auto_rows": null,
      "grid_column": null,
      "grid_gap": null,
      "grid_row": null,
      "grid_template_areas": null,
      "grid_template_columns": null,
      "grid_template_rows": null,
      "height": null,
      "justify_content": null,
      "justify_items": null,
      "left": null,
      "margin": null,
      "max_height": null,
      "max_width": null,
      "min_height": null,
      "min_width": null,
      "object_fit": null,
      "object_position": null,
      "order": null,
      "overflow": null,
      "overflow_x": null,
      "overflow_y": null,
      "padding": null,
      "right": null,
      "top": null,
      "visibility": null,
      "width": null
     }
    },
    "670de8a730204f4ab21a0b5009732b46": {
     "model_module": "@jupyter-widgets/base",
     "model_module_version": "1.2.0",
     "model_name": "LayoutModel",
     "state": {
      "_model_module": "@jupyter-widgets/base",
      "_model_module_version": "1.2.0",
      "_model_name": "LayoutModel",
      "_view_count": null,
      "_view_module": "@jupyter-widgets/base",
      "_view_module_version": "1.2.0",
      "_view_name": "LayoutView",
      "align_content": null,
      "align_items": null,
      "align_self": null,
      "border": null,
      "bottom": null,
      "display": null,
      "flex": null,
      "flex_flow": null,
      "grid_area": null,
      "grid_auto_columns": null,
      "grid_auto_flow": null,
      "grid_auto_rows": null,
      "grid_column": null,
      "grid_gap": null,
      "grid_row": null,
      "grid_template_areas": null,
      "grid_template_columns": null,
      "grid_template_rows": null,
      "height": null,
      "justify_content": null,
      "justify_items": null,
      "left": null,
      "margin": null,
      "max_height": null,
      "max_width": null,
      "min_height": null,
      "min_width": null,
      "object_fit": null,
      "object_position": null,
      "order": null,
      "overflow": null,
      "overflow_x": null,
      "overflow_y": null,
      "padding": null,
      "right": null,
      "top": null,
      "visibility": null,
      "width": null
     }
    },
    "6a6faab3dc0d457e8df0a5b89a0565b1": {
     "model_module": "@jupyter-widgets/controls",
     "model_module_version": "1.5.0",
     "model_name": "HTMLModel",
     "state": {
      "_dom_classes": [],
      "_model_module": "@jupyter-widgets/controls",
      "_model_module_version": "1.5.0",
      "_model_name": "HTMLModel",
      "_view_count": null,
      "_view_module": "@jupyter-widgets/controls",
      "_view_module_version": "1.5.0",
      "_view_name": "HTMLView",
      "description": "",
      "description_tooltip": null,
      "layout": "IPY_MODEL_75566480aa034d61b44b317813b07cb6",
      "placeholder": "​",
      "style": "IPY_MODEL_a3239f4788b44e3991b3f59f1f070c98",
      "value": " 990M/990M [00:04&lt;00:00, 220MB/s]"
     }
    },
    "6d8d9b31eaf24332b244b07d037d00c4": {
     "model_module": "@jupyter-widgets/controls",
     "model_module_version": "1.5.0",
     "model_name": "DescriptionStyleModel",
     "state": {
      "_model_module": "@jupyter-widgets/controls",
      "_model_module_version": "1.5.0",
      "_model_name": "DescriptionStyleModel",
      "_view_count": null,
      "_view_module": "@jupyter-widgets/base",
      "_view_module_version": "1.2.0",
      "_view_name": "StyleView",
      "description_width": ""
     }
    },
    "6f0058df5aca46bdbfc5ef9234167dcb": {
     "model_module": "@jupyter-widgets/controls",
     "model_module_version": "1.5.0",
     "model_name": "HTMLModel",
     "state": {
      "_dom_classes": [],
      "_model_module": "@jupyter-widgets/controls",
      "_model_module_version": "1.5.0",
      "_model_name": "HTMLModel",
      "_view_count": null,
      "_view_module": "@jupyter-widgets/controls",
      "_view_module_version": "1.5.0",
      "_view_name": "HTMLView",
      "description": "",
      "description_tooltip": null,
      "layout": "IPY_MODEL_cefae9cd615e46b19075f5a150cf14da",
      "placeholder": "​",
      "style": "IPY_MODEL_9997e06b208d4f119e9927da940f201b",
      "value": "spiece.model: 100%"
     }
    },
    "714a1621331e4babab9d2b4d70dbe184": {
     "model_module": "@jupyter-widgets/controls",
     "model_module_version": "1.5.0",
     "model_name": "ProgressStyleModel",
     "state": {
      "_model_module": "@jupyter-widgets/controls",
      "_model_module_version": "1.5.0",
      "_model_name": "ProgressStyleModel",
      "_view_count": null,
      "_view_module": "@jupyter-widgets/base",
      "_view_module_version": "1.2.0",
      "_view_name": "StyleView",
      "bar_color": null,
      "description_width": ""
     }
    },
    "72dbf6fa73b248cc81e1200f2a6fc1ed": {
     "model_module": "@jupyter-widgets/controls",
     "model_module_version": "1.5.0",
     "model_name": "HBoxModel",
     "state": {
      "_dom_classes": [],
      "_model_module": "@jupyter-widgets/controls",
      "_model_module_version": "1.5.0",
      "_model_name": "HBoxModel",
      "_view_count": null,
      "_view_module": "@jupyter-widgets/controls",
      "_view_module_version": "1.5.0",
      "_view_name": "HBoxView",
      "box_style": "",
      "children": [
       "IPY_MODEL_036ec170e8e34b489a8af125d74d28ad",
       "IPY_MODEL_d849b60cba5946f5a320e16519625c96",
       "IPY_MODEL_fb60e0605cde4778930ce2fef64ecc5e"
      ],
      "layout": "IPY_MODEL_3442496575de4178ae9a425f62e62945"
     }
    },
    "75566480aa034d61b44b317813b07cb6": {
     "model_module": "@jupyter-widgets/base",
     "model_module_version": "1.2.0",
     "model_name": "LayoutModel",
     "state": {
      "_model_module": "@jupyter-widgets/base",
      "_model_module_version": "1.2.0",
      "_model_name": "LayoutModel",
      "_view_count": null,
      "_view_module": "@jupyter-widgets/base",
      "_view_module_version": "1.2.0",
      "_view_name": "LayoutView",
      "align_content": null,
      "align_items": null,
      "align_self": null,
      "border": null,
      "bottom": null,
      "display": null,
      "flex": null,
      "flex_flow": null,
      "grid_area": null,
      "grid_auto_columns": null,
      "grid_auto_flow": null,
      "grid_auto_rows": null,
      "grid_column": null,
      "grid_gap": null,
      "grid_row": null,
      "grid_template_areas": null,
      "grid_template_columns": null,
      "grid_template_rows": null,
      "height": null,
      "justify_content": null,
      "justify_items": null,
      "left": null,
      "margin": null,
      "max_height": null,
      "max_width": null,
      "min_height": null,
      "min_width": null,
      "object_fit": null,
      "object_position": null,
      "order": null,
      "overflow": null,
      "overflow_x": null,
      "overflow_y": null,
      "padding": null,
      "right": null,
      "top": null,
      "visibility": null,
      "width": null
     }
    },
    "7579b61e965b4e56941535f809d0568d": {
     "model_module": "@jupyter-widgets/controls",
     "model_module_version": "1.5.0",
     "model_name": "FloatProgressModel",
     "state": {
      "_dom_classes": [],
      "_model_module": "@jupyter-widgets/controls",
      "_model_module_version": "1.5.0",
      "_model_name": "FloatProgressModel",
      "_view_count": null,
      "_view_module": "@jupyter-widgets/controls",
      "_view_module_version": "1.5.0",
      "_view_name": "ProgressView",
      "bar_style": "success",
      "description": "",
      "description_tooltip": null,
      "layout": "IPY_MODEL_a97ccd3badd546eaaa82c21bc5df41b5",
      "max": 990345061,
      "min": 0,
      "orientation": "horizontal",
      "style": "IPY_MODEL_6047adc2996843fbbe6ade3dcee5230f",
      "value": 990345061
     }
    },
    "797fd9b0312f43ecbbffda31cd52cf40": {
     "model_module": "@jupyter-widgets/base",
     "model_module_version": "1.2.0",
     "model_name": "LayoutModel",
     "state": {
      "_model_module": "@jupyter-widgets/base",
      "_model_module_version": "1.2.0",
      "_model_name": "LayoutModel",
      "_view_count": null,
      "_view_module": "@jupyter-widgets/base",
      "_view_module_version": "1.2.0",
      "_view_name": "LayoutView",
      "align_content": null,
      "align_items": null,
      "align_self": null,
      "border": null,
      "bottom": null,
      "display": null,
      "flex": null,
      "flex_flow": null,
      "grid_area": null,
      "grid_auto_columns": null,
      "grid_auto_flow": null,
      "grid_auto_rows": null,
      "grid_column": null,
      "grid_gap": null,
      "grid_row": null,
      "grid_template_areas": null,
      "grid_template_columns": null,
      "grid_template_rows": null,
      "height": null,
      "justify_content": null,
      "justify_items": null,
      "left": null,
      "margin": null,
      "max_height": null,
      "max_width": null,
      "min_height": null,
      "min_width": null,
      "object_fit": null,
      "object_position": null,
      "order": null,
      "overflow": null,
      "overflow_x": null,
      "overflow_y": null,
      "padding": null,
      "right": null,
      "top": null,
      "visibility": null,
      "width": null
     }
    },
    "7eaaa085cfe642db81f9b0f7206d78bf": {
     "model_module": "@jupyter-widgets/base",
     "model_module_version": "1.2.0",
     "model_name": "LayoutModel",
     "state": {
      "_model_module": "@jupyter-widgets/base",
      "_model_module_version": "1.2.0",
      "_model_name": "LayoutModel",
      "_view_count": null,
      "_view_module": "@jupyter-widgets/base",
      "_view_module_version": "1.2.0",
      "_view_name": "LayoutView",
      "align_content": null,
      "align_items": null,
      "align_self": null,
      "border": null,
      "bottom": null,
      "display": null,
      "flex": null,
      "flex_flow": null,
      "grid_area": null,
      "grid_auto_columns": null,
      "grid_auto_flow": null,
      "grid_auto_rows": null,
      "grid_column": null,
      "grid_gap": null,
      "grid_row": null,
      "grid_template_areas": null,
      "grid_template_columns": null,
      "grid_template_rows": null,
      "height": null,
      "justify_content": null,
      "justify_items": null,
      "left": null,
      "margin": null,
      "max_height": null,
      "max_width": null,
      "min_height": null,
      "min_width": null,
      "object_fit": null,
      "object_position": null,
      "order": null,
      "overflow": null,
      "overflow_x": null,
      "overflow_y": null,
      "padding": null,
      "right": null,
      "top": null,
      "visibility": null,
      "width": null
     }
    },
    "800defd7aee1499f922b2f4d09165464": {
     "model_module": "@jupyter-widgets/controls",
     "model_module_version": "1.5.0",
     "model_name": "HTMLModel",
     "state": {
      "_dom_classes": [],
      "_model_module": "@jupyter-widgets/controls",
      "_model_module_version": "1.5.0",
      "_model_name": "HTMLModel",
      "_view_count": null,
      "_view_module": "@jupyter-widgets/controls",
      "_view_module_version": "1.5.0",
      "_view_name": "HTMLView",
      "description": "",
      "description_tooltip": null,
      "layout": "IPY_MODEL_04e6f2db535745fea1f2a2b6cd6e5ebf",
      "placeholder": "​",
      "style": "IPY_MODEL_169317cc767348c9a522323f3f5f3b06",
      "value": " 41/41 [00:00&lt;00:00, 125.14 examples/s]"
     }
    },
    "8214ab89d68b43b584d403c9e7a2995a": {
     "model_module": "@jupyter-widgets/base",
     "model_module_version": "1.2.0",
     "model_name": "LayoutModel",
     "state": {
      "_model_module": "@jupyter-widgets/base",
      "_model_module_version": "1.2.0",
      "_model_name": "LayoutModel",
      "_view_count": null,
      "_view_module": "@jupyter-widgets/base",
      "_view_module_version": "1.2.0",
      "_view_name": "LayoutView",
      "align_content": null,
      "align_items": null,
      "align_self": null,
      "border": null,
      "bottom": null,
      "display": null,
      "flex": null,
      "flex_flow": null,
      "grid_area": null,
      "grid_auto_columns": null,
      "grid_auto_flow": null,
      "grid_auto_rows": null,
      "grid_column": null,
      "grid_gap": null,
      "grid_row": null,
      "grid_template_areas": null,
      "grid_template_columns": null,
      "grid_template_rows": null,
      "height": null,
      "justify_content": null,
      "justify_items": null,
      "left": null,
      "margin": null,
      "max_height": null,
      "max_width": null,
      "min_height": null,
      "min_width": null,
      "object_fit": null,
      "object_position": null,
      "order": null,
      "overflow": null,
      "overflow_x": null,
      "overflow_y": null,
      "padding": null,
      "right": null,
      "top": null,
      "visibility": null,
      "width": null
     }
    },
    "85e43045e6bc48b0ae83c6ae122cd9cb": {
     "model_module": "@jupyter-widgets/controls",
     "model_module_version": "1.5.0",
     "model_name": "ProgressStyleModel",
     "state": {
      "_model_module": "@jupyter-widgets/controls",
      "_model_module_version": "1.5.0",
      "_model_name": "ProgressStyleModel",
      "_view_count": null,
      "_view_module": "@jupyter-widgets/base",
      "_view_module_version": "1.2.0",
      "_view_name": "StyleView",
      "bar_color": null,
      "description_width": ""
     }
    },
    "85ee85ef11ed4ea19c4dd619a9ae3d47": {
     "model_module": "@jupyter-widgets/controls",
     "model_module_version": "1.5.0",
     "model_name": "DescriptionStyleModel",
     "state": {
      "_model_module": "@jupyter-widgets/controls",
      "_model_module_version": "1.5.0",
      "_model_name": "DescriptionStyleModel",
      "_view_count": null,
      "_view_module": "@jupyter-widgets/base",
      "_view_module_version": "1.2.0",
      "_view_name": "StyleView",
      "description_width": ""
     }
    },
    "86bb2d8f3eec4d0a9063c4312da91f75": {
     "model_module": "@jupyter-widgets/controls",
     "model_module_version": "1.5.0",
     "model_name": "HBoxModel",
     "state": {
      "_dom_classes": [],
      "_model_module": "@jupyter-widgets/controls",
      "_model_module_version": "1.5.0",
      "_model_name": "HBoxModel",
      "_view_count": null,
      "_view_module": "@jupyter-widgets/controls",
      "_view_module_version": "1.5.0",
      "_view_name": "HBoxView",
      "box_style": "",
      "children": [
       "IPY_MODEL_0402c4db34634a07a69075b111410c60",
       "IPY_MODEL_7579b61e965b4e56941535f809d0568d",
       "IPY_MODEL_6a6faab3dc0d457e8df0a5b89a0565b1"
      ],
      "layout": "IPY_MODEL_b074c2f725e549aba875707eb1ae2037"
     }
    },
    "86e7f1f53d5a449d9fc669219a08d59d": {
     "model_module": "@jupyter-widgets/base",
     "model_module_version": "1.2.0",
     "model_name": "LayoutModel",
     "state": {
      "_model_module": "@jupyter-widgets/base",
      "_model_module_version": "1.2.0",
      "_model_name": "LayoutModel",
      "_view_count": null,
      "_view_module": "@jupyter-widgets/base",
      "_view_module_version": "1.2.0",
      "_view_name": "LayoutView",
      "align_content": null,
      "align_items": null,
      "align_self": null,
      "border": null,
      "bottom": null,
      "display": null,
      "flex": null,
      "flex_flow": null,
      "grid_area": null,
      "grid_auto_columns": null,
      "grid_auto_flow": null,
      "grid_auto_rows": null,
      "grid_column": null,
      "grid_gap": null,
      "grid_row": null,
      "grid_template_areas": null,
      "grid_template_columns": null,
      "grid_template_rows": null,
      "height": null,
      "justify_content": null,
      "justify_items": null,
      "left": null,
      "margin": null,
      "max_height": null,
      "max_width": null,
      "min_height": null,
      "min_width": null,
      "object_fit": null,
      "object_position": null,
      "order": null,
      "overflow": null,
      "overflow_x": null,
      "overflow_y": null,
      "padding": null,
      "right": null,
      "top": null,
      "visibility": null,
      "width": null
     }
    },
    "873998431c5b4537982bfb8e83eaf14f": {
     "model_module": "@jupyter-widgets/controls",
     "model_module_version": "1.5.0",
     "model_name": "DescriptionStyleModel",
     "state": {
      "_model_module": "@jupyter-widgets/controls",
      "_model_module_version": "1.5.0",
      "_model_name": "DescriptionStyleModel",
      "_view_count": null,
      "_view_module": "@jupyter-widgets/base",
      "_view_module_version": "1.2.0",
      "_view_name": "StyleView",
      "description_width": ""
     }
    },
    "8faf081a2a0f4c5db5419e842cd4d012": {
     "model_module": "@jupyter-widgets/base",
     "model_module_version": "1.2.0",
     "model_name": "LayoutModel",
     "state": {
      "_model_module": "@jupyter-widgets/base",
      "_model_module_version": "1.2.0",
      "_model_name": "LayoutModel",
      "_view_count": null,
      "_view_module": "@jupyter-widgets/base",
      "_view_module_version": "1.2.0",
      "_view_name": "LayoutView",
      "align_content": null,
      "align_items": null,
      "align_self": null,
      "border": null,
      "bottom": null,
      "display": null,
      "flex": null,
      "flex_flow": null,
      "grid_area": null,
      "grid_auto_columns": null,
      "grid_auto_flow": null,
      "grid_auto_rows": null,
      "grid_column": null,
      "grid_gap": null,
      "grid_row": null,
      "grid_template_areas": null,
      "grid_template_columns": null,
      "grid_template_rows": null,
      "height": null,
      "justify_content": null,
      "justify_items": null,
      "left": null,
      "margin": null,
      "max_height": null,
      "max_width": null,
      "min_height": null,
      "min_width": null,
      "object_fit": null,
      "object_position": null,
      "order": null,
      "overflow": null,
      "overflow_x": null,
      "overflow_y": null,
      "padding": null,
      "right": null,
      "top": null,
      "visibility": null,
      "width": null
     }
    },
    "9079de2fbe3b4901b31ae7ffd8111da9": {
     "model_module": "@jupyter-widgets/controls",
     "model_module_version": "1.5.0",
     "model_name": "FloatProgressModel",
     "state": {
      "_dom_classes": [],
      "_model_module": "@jupyter-widgets/controls",
      "_model_module_version": "1.5.0",
      "_model_name": "FloatProgressModel",
      "_view_count": null,
      "_view_module": "@jupyter-widgets/controls",
      "_view_module_version": "1.5.0",
      "_view_name": "ProgressView",
      "bar_style": "success",
      "description": "",
      "description_tooltip": null,
      "layout": "IPY_MODEL_63071d55accc4bd7a35b55dd29f04435",
      "max": 2201,
      "min": 0,
      "orientation": "horizontal",
      "style": "IPY_MODEL_ab59e65b2f924725a442a46ea9b66709",
      "value": 2201
     }
    },
    "914dc2e3b6014b1a872d92d55aeaa315": {
     "model_module": "@jupyter-widgets/controls",
     "model_module_version": "1.5.0",
     "model_name": "ProgressStyleModel",
     "state": {
      "_model_module": "@jupyter-widgets/controls",
      "_model_module_version": "1.5.0",
      "_model_name": "ProgressStyleModel",
      "_view_count": null,
      "_view_module": "@jupyter-widgets/base",
      "_view_module_version": "1.2.0",
      "_view_name": "StyleView",
      "bar_color": null,
      "description_width": ""
     }
    },
    "952d3ab36f3f49c787800e539eb69156": {
     "model_module": "@jupyter-widgets/controls",
     "model_module_version": "1.5.0",
     "model_name": "ProgressStyleModel",
     "state": {
      "_model_module": "@jupyter-widgets/controls",
      "_model_module_version": "1.5.0",
      "_model_name": "ProgressStyleModel",
      "_view_count": null,
      "_view_module": "@jupyter-widgets/base",
      "_view_module_version": "1.2.0",
      "_view_name": "StyleView",
      "bar_color": null,
      "description_width": ""
     }
    },
    "9997e06b208d4f119e9927da940f201b": {
     "model_module": "@jupyter-widgets/controls",
     "model_module_version": "1.5.0",
     "model_name": "DescriptionStyleModel",
     "state": {
      "_model_module": "@jupyter-widgets/controls",
      "_model_module_version": "1.5.0",
      "_model_name": "DescriptionStyleModel",
      "_view_count": null,
      "_view_module": "@jupyter-widgets/base",
      "_view_module_version": "1.2.0",
      "_view_name": "StyleView",
      "description_width": ""
     }
    },
    "99c9561965fd472c903c9507e03402a1": {
     "model_module": "@jupyter-widgets/controls",
     "model_module_version": "1.5.0",
     "model_name": "ProgressStyleModel",
     "state": {
      "_model_module": "@jupyter-widgets/controls",
      "_model_module_version": "1.5.0",
      "_model_name": "ProgressStyleModel",
      "_view_count": null,
      "_view_module": "@jupyter-widgets/base",
      "_view_module_version": "1.2.0",
      "_view_name": "StyleView",
      "bar_color": null,
      "description_width": ""
     }
    },
    "9ae99e617c3c4446ada5b7ae82a878d9": {
     "model_module": "@jupyter-widgets/base",
     "model_module_version": "1.2.0",
     "model_name": "LayoutModel",
     "state": {
      "_model_module": "@jupyter-widgets/base",
      "_model_module_version": "1.2.0",
      "_model_name": "LayoutModel",
      "_view_count": null,
      "_view_module": "@jupyter-widgets/base",
      "_view_module_version": "1.2.0",
      "_view_name": "LayoutView",
      "align_content": null,
      "align_items": null,
      "align_self": null,
      "border": null,
      "bottom": null,
      "display": null,
      "flex": null,
      "flex_flow": null,
      "grid_area": null,
      "grid_auto_columns": null,
      "grid_auto_flow": null,
      "grid_auto_rows": null,
      "grid_column": null,
      "grid_gap": null,
      "grid_row": null,
      "grid_template_areas": null,
      "grid_template_columns": null,
      "grid_template_rows": null,
      "height": null,
      "justify_content": null,
      "justify_items": null,
      "left": null,
      "margin": null,
      "max_height": null,
      "max_width": null,
      "min_height": null,
      "min_width": null,
      "object_fit": null,
      "object_position": null,
      "order": null,
      "overflow": null,
      "overflow_x": null,
      "overflow_y": null,
      "padding": null,
      "right": null,
      "top": null,
      "visibility": null,
      "width": null
     }
    },
    "9b30879aa4ba4ba788e70248d8dc07ec": {
     "model_module": "@jupyter-widgets/controls",
     "model_module_version": "1.5.0",
     "model_name": "HTMLModel",
     "state": {
      "_dom_classes": [],
      "_model_module": "@jupyter-widgets/controls",
      "_model_module_version": "1.5.0",
      "_model_name": "HTMLModel",
      "_view_count": null,
      "_view_module": "@jupyter-widgets/controls",
      "_view_module_version": "1.5.0",
      "_view_name": "HTMLView",
      "description": "",
      "description_tooltip": null,
      "layout": "IPY_MODEL_ebfc6157e5fe4a80844c94eafffa0ff6",
      "placeholder": "​",
      "style": "IPY_MODEL_e386bceed96a477dab468661c009e169",
      "value": " 792k/792k [00:00&lt;00:00, 9.43MB/s]"
     }
    },
    "a0cc2a6022fb47218a0f27b2f5a1ac25": {
     "model_module": "@jupyter-widgets/base",
     "model_module_version": "1.2.0",
     "model_name": "LayoutModel",
     "state": {
      "_model_module": "@jupyter-widgets/base",
      "_model_module_version": "1.2.0",
      "_model_name": "LayoutModel",
      "_view_count": null,
      "_view_module": "@jupyter-widgets/base",
      "_view_module_version": "1.2.0",
      "_view_name": "LayoutView",
      "align_content": null,
      "align_items": null,
      "align_self": null,
      "border": null,
      "bottom": null,
      "display": null,
      "flex": null,
      "flex_flow": null,
      "grid_area": null,
      "grid_auto_columns": null,
      "grid_auto_flow": null,
      "grid_auto_rows": null,
      "grid_column": null,
      "grid_gap": null,
      "grid_row": null,
      "grid_template_areas": null,
      "grid_template_columns": null,
      "grid_template_rows": null,
      "height": null,
      "justify_content": null,
      "justify_items": null,
      "left": null,
      "margin": null,
      "max_height": null,
      "max_width": null,
      "min_height": null,
      "min_width": null,
      "object_fit": null,
      "object_position": null,
      "order": null,
      "overflow": null,
      "overflow_x": null,
      "overflow_y": null,
      "padding": null,
      "right": null,
      "top": null,
      "visibility": null,
      "width": null
     }
    },
    "a1e0ae2218f841319bb3b3a1d27f6669": {
     "model_module": "@jupyter-widgets/controls",
     "model_module_version": "1.5.0",
     "model_name": "HBoxModel",
     "state": {
      "_dom_classes": [],
      "_model_module": "@jupyter-widgets/controls",
      "_model_module_version": "1.5.0",
      "_model_name": "HBoxModel",
      "_view_count": null,
      "_view_module": "@jupyter-widgets/controls",
      "_view_module_version": "1.5.0",
      "_view_name": "HBoxView",
      "box_style": "",
      "children": [
       "IPY_MODEL_110612f807b94dc78478dd470b7161f0",
       "IPY_MODEL_573402794d784b0c8e67e3040c13f0a1",
       "IPY_MODEL_f95d34ab2d1f4b4796b61ff392143614"
      ],
      "layout": "IPY_MODEL_b2d68886c8ad4671ab52385142330d20"
     }
    },
    "a2427da0de72441ca09da2af8592e7fc": {
     "model_module": "@jupyter-widgets/base",
     "model_module_version": "1.2.0",
     "model_name": "LayoutModel",
     "state": {
      "_model_module": "@jupyter-widgets/base",
      "_model_module_version": "1.2.0",
      "_model_name": "LayoutModel",
      "_view_count": null,
      "_view_module": "@jupyter-widgets/base",
      "_view_module_version": "1.2.0",
      "_view_name": "LayoutView",
      "align_content": null,
      "align_items": null,
      "align_self": null,
      "border": null,
      "bottom": null,
      "display": null,
      "flex": null,
      "flex_flow": null,
      "grid_area": null,
      "grid_auto_columns": null,
      "grid_auto_flow": null,
      "grid_auto_rows": null,
      "grid_column": null,
      "grid_gap": null,
      "grid_row": null,
      "grid_template_areas": null,
      "grid_template_columns": null,
      "grid_template_rows": null,
      "height": null,
      "justify_content": null,
      "justify_items": null,
      "left": null,
      "margin": null,
      "max_height": null,
      "max_width": null,
      "min_height": null,
      "min_width": null,
      "object_fit": null,
      "object_position": null,
      "order": null,
      "overflow": null,
      "overflow_x": null,
      "overflow_y": null,
      "padding": null,
      "right": null,
      "top": null,
      "visibility": null,
      "width": null
     }
    },
    "a3239f4788b44e3991b3f59f1f070c98": {
     "model_module": "@jupyter-widgets/controls",
     "model_module_version": "1.5.0",
     "model_name": "DescriptionStyleModel",
     "state": {
      "_model_module": "@jupyter-widgets/controls",
      "_model_module_version": "1.5.0",
      "_model_name": "DescriptionStyleModel",
      "_view_count": null,
      "_view_module": "@jupyter-widgets/base",
      "_view_module_version": "1.2.0",
      "_view_name": "StyleView",
      "description_width": ""
     }
    },
    "a6d6ae1bce214af2804a3e36908bc266": {
     "model_module": "@jupyter-widgets/controls",
     "model_module_version": "1.5.0",
     "model_name": "HBoxModel",
     "state": {
      "_dom_classes": [],
      "_model_module": "@jupyter-widgets/controls",
      "_model_module_version": "1.5.0",
      "_model_name": "HBoxModel",
      "_view_count": null,
      "_view_module": "@jupyter-widgets/controls",
      "_view_module_version": "1.5.0",
      "_view_name": "HBoxView",
      "box_style": "",
      "children": [
       "IPY_MODEL_57054f9052b549b59cd757a164f6ea71",
       "IPY_MODEL_9079de2fbe3b4901b31ae7ffd8111da9",
       "IPY_MODEL_38d00afad5d646248d4a0ef39d2c6bd8"
      ],
      "layout": "IPY_MODEL_797fd9b0312f43ecbbffda31cd52cf40"
     }
    },
    "a97ccd3badd546eaaa82c21bc5df41b5": {
     "model_module": "@jupyter-widgets/base",
     "model_module_version": "1.2.0",
     "model_name": "LayoutModel",
     "state": {
      "_model_module": "@jupyter-widgets/base",
      "_model_module_version": "1.2.0",
      "_model_name": "LayoutModel",
      "_view_count": null,
      "_view_module": "@jupyter-widgets/base",
      "_view_module_version": "1.2.0",
      "_view_name": "LayoutView",
      "align_content": null,
      "align_items": null,
      "align_self": null,
      "border": null,
      "bottom": null,
      "display": null,
      "flex": null,
      "flex_flow": null,
      "grid_area": null,
      "grid_auto_columns": null,
      "grid_auto_flow": null,
      "grid_auto_rows": null,
      "grid_column": null,
      "grid_gap": null,
      "grid_row": null,
      "grid_template_areas": null,
      "grid_template_columns": null,
      "grid_template_rows": null,
      "height": null,
      "justify_content": null,
      "justify_items": null,
      "left": null,
      "margin": null,
      "max_height": null,
      "max_width": null,
      "min_height": null,
      "min_width": null,
      "object_fit": null,
      "object_position": null,
      "order": null,
      "overflow": null,
      "overflow_x": null,
      "overflow_y": null,
      "padding": null,
      "right": null,
      "top": null,
      "visibility": null,
      "width": null
     }
    },
    "aa92e606ee4446ed94c14783ce31a52c": {
     "model_module": "@jupyter-widgets/base",
     "model_module_version": "1.2.0",
     "model_name": "LayoutModel",
     "state": {
      "_model_module": "@jupyter-widgets/base",
      "_model_module_version": "1.2.0",
      "_model_name": "LayoutModel",
      "_view_count": null,
      "_view_module": "@jupyter-widgets/base",
      "_view_module_version": "1.2.0",
      "_view_name": "LayoutView",
      "align_content": null,
      "align_items": null,
      "align_self": null,
      "border": null,
      "bottom": null,
      "display": null,
      "flex": null,
      "flex_flow": null,
      "grid_area": null,
      "grid_auto_columns": null,
      "grid_auto_flow": null,
      "grid_auto_rows": null,
      "grid_column": null,
      "grid_gap": null,
      "grid_row": null,
      "grid_template_areas": null,
      "grid_template_columns": null,
      "grid_template_rows": null,
      "height": null,
      "justify_content": null,
      "justify_items": null,
      "left": null,
      "margin": null,
      "max_height": null,
      "max_width": null,
      "min_height": null,
      "min_width": null,
      "object_fit": null,
      "object_position": null,
      "order": null,
      "overflow": null,
      "overflow_x": null,
      "overflow_y": null,
      "padding": null,
      "right": null,
      "top": null,
      "visibility": null,
      "width": null
     }
    },
    "ab59e65b2f924725a442a46ea9b66709": {
     "model_module": "@jupyter-widgets/controls",
     "model_module_version": "1.5.0",
     "model_name": "ProgressStyleModel",
     "state": {
      "_model_module": "@jupyter-widgets/controls",
      "_model_module_version": "1.5.0",
      "_model_name": "ProgressStyleModel",
      "_view_count": null,
      "_view_module": "@jupyter-widgets/base",
      "_view_module_version": "1.2.0",
      "_view_name": "StyleView",
      "bar_color": null,
      "description_width": ""
     }
    },
    "b074c2f725e549aba875707eb1ae2037": {
     "model_module": "@jupyter-widgets/base",
     "model_module_version": "1.2.0",
     "model_name": "LayoutModel",
     "state": {
      "_model_module": "@jupyter-widgets/base",
      "_model_module_version": "1.2.0",
      "_model_name": "LayoutModel",
      "_view_count": null,
      "_view_module": "@jupyter-widgets/base",
      "_view_module_version": "1.2.0",
      "_view_name": "LayoutView",
      "align_content": null,
      "align_items": null,
      "align_self": null,
      "border": null,
      "bottom": null,
      "display": null,
      "flex": null,
      "flex_flow": null,
      "grid_area": null,
      "grid_auto_columns": null,
      "grid_auto_flow": null,
      "grid_auto_rows": null,
      "grid_column": null,
      "grid_gap": null,
      "grid_row": null,
      "grid_template_areas": null,
      "grid_template_columns": null,
      "grid_template_rows": null,
      "height": null,
      "justify_content": null,
      "justify_items": null,
      "left": null,
      "margin": null,
      "max_height": null,
      "max_width": null,
      "min_height": null,
      "min_width": null,
      "object_fit": null,
      "object_position": null,
      "order": null,
      "overflow": null,
      "overflow_x": null,
      "overflow_y": null,
      "padding": null,
      "right": null,
      "top": null,
      "visibility": null,
      "width": null
     }
    },
    "b2d68886c8ad4671ab52385142330d20": {
     "model_module": "@jupyter-widgets/base",
     "model_module_version": "1.2.0",
     "model_name": "LayoutModel",
     "state": {
      "_model_module": "@jupyter-widgets/base",
      "_model_module_version": "1.2.0",
      "_model_name": "LayoutModel",
      "_view_count": null,
      "_view_module": "@jupyter-widgets/base",
      "_view_module_version": "1.2.0",
      "_view_name": "LayoutView",
      "align_content": null,
      "align_items": null,
      "align_self": null,
      "border": null,
      "bottom": null,
      "display": null,
      "flex": null,
      "flex_flow": null,
      "grid_area": null,
      "grid_auto_columns": null,
      "grid_auto_flow": null,
      "grid_auto_rows": null,
      "grid_column": null,
      "grid_gap": null,
      "grid_row": null,
      "grid_template_areas": null,
      "grid_template_columns": null,
      "grid_template_rows": null,
      "height": null,
      "justify_content": null,
      "justify_items": null,
      "left": null,
      "margin": null,
      "max_height": null,
      "max_width": null,
      "min_height": null,
      "min_width": null,
      "object_fit": null,
      "object_position": null,
      "order": null,
      "overflow": null,
      "overflow_x": null,
      "overflow_y": null,
      "padding": null,
      "right": null,
      "top": null,
      "visibility": null,
      "width": null
     }
    },
    "b4f5bd8d2c49449f8d122da99a8fd199": {
     "model_module": "@jupyter-widgets/base",
     "model_module_version": "1.2.0",
     "model_name": "LayoutModel",
     "state": {
      "_model_module": "@jupyter-widgets/base",
      "_model_module_version": "1.2.0",
      "_model_name": "LayoutModel",
      "_view_count": null,
      "_view_module": "@jupyter-widgets/base",
      "_view_module_version": "1.2.0",
      "_view_name": "LayoutView",
      "align_content": null,
      "align_items": null,
      "align_self": null,
      "border": null,
      "bottom": null,
      "display": null,
      "flex": null,
      "flex_flow": null,
      "grid_area": null,
      "grid_auto_columns": null,
      "grid_auto_flow": null,
      "grid_auto_rows": null,
      "grid_column": null,
      "grid_gap": null,
      "grid_row": null,
      "grid_template_areas": null,
      "grid_template_columns": null,
      "grid_template_rows": null,
      "height": null,
      "justify_content": null,
      "justify_items": null,
      "left": null,
      "margin": null,
      "max_height": null,
      "max_width": null,
      "min_height": null,
      "min_width": null,
      "object_fit": null,
      "object_position": null,
      "order": null,
      "overflow": null,
      "overflow_x": null,
      "overflow_y": null,
      "padding": null,
      "right": null,
      "top": null,
      "visibility": null,
      "width": null
     }
    },
    "b82c4f0f3a0a45a3a165fc64da2df411": {
     "model_module": "@jupyter-widgets/controls",
     "model_module_version": "1.5.0",
     "model_name": "HBoxModel",
     "state": {
      "_dom_classes": [],
      "_model_module": "@jupyter-widgets/controls",
      "_model_module_version": "1.5.0",
      "_model_name": "HBoxModel",
      "_view_count": null,
      "_view_module": "@jupyter-widgets/controls",
      "_view_module_version": "1.5.0",
      "_view_name": "HBoxView",
      "box_style": "",
      "children": [
       "IPY_MODEL_11f7f994a1674c9695e8a5cd0844d641",
       "IPY_MODEL_be50333886784a3b9b86372bbc55e9d5",
       "IPY_MODEL_800defd7aee1499f922b2f4d09165464"
      ],
      "layout": "IPY_MODEL_a0cc2a6022fb47218a0f27b2f5a1ac25"
     }
    },
    "be50333886784a3b9b86372bbc55e9d5": {
     "model_module": "@jupyter-widgets/controls",
     "model_module_version": "1.5.0",
     "model_name": "FloatProgressModel",
     "state": {
      "_dom_classes": [],
      "_model_module": "@jupyter-widgets/controls",
      "_model_module_version": "1.5.0",
      "_model_name": "FloatProgressModel",
      "_view_count": null,
      "_view_module": "@jupyter-widgets/controls",
      "_view_module_version": "1.5.0",
      "_view_name": "ProgressView",
      "bar_style": "success",
      "description": "",
      "description_tooltip": null,
      "layout": "IPY_MODEL_befda464b8534350a451e1441a54731c",
      "max": 41,
      "min": 0,
      "orientation": "horizontal",
      "style": "IPY_MODEL_4f124f41d21542e3ad4efd0c3744a90a",
      "value": 41
     }
    },
    "befda464b8534350a451e1441a54731c": {
     "model_module": "@jupyter-widgets/base",
     "model_module_version": "1.2.0",
     "model_name": "LayoutModel",
     "state": {
      "_model_module": "@jupyter-widgets/base",
      "_model_module_version": "1.2.0",
      "_model_name": "LayoutModel",
      "_view_count": null,
      "_view_module": "@jupyter-widgets/base",
      "_view_module_version": "1.2.0",
      "_view_name": "LayoutView",
      "align_content": null,
      "align_items": null,
      "align_self": null,
      "border": null,
      "bottom": null,
      "display": null,
      "flex": null,
      "flex_flow": null,
      "grid_area": null,
      "grid_auto_columns": null,
      "grid_auto_flow": null,
      "grid_auto_rows": null,
      "grid_column": null,
      "grid_gap": null,
      "grid_row": null,
      "grid_template_areas": null,
      "grid_template_columns": null,
      "grid_template_rows": null,
      "height": null,
      "justify_content": null,
      "justify_items": null,
      "left": null,
      "margin": null,
      "max_height": null,
      "max_width": null,
      "min_height": null,
      "min_width": null,
      "object_fit": null,
      "object_position": null,
      "order": null,
      "overflow": null,
      "overflow_x": null,
      "overflow_y": null,
      "padding": null,
      "right": null,
      "top": null,
      "visibility": null,
      "width": null
     }
    },
    "ca1d03a0686d493cb75f3af63a31b639": {
     "model_module": "@jupyter-widgets/base",
     "model_module_version": "1.2.0",
     "model_name": "LayoutModel",
     "state": {
      "_model_module": "@jupyter-widgets/base",
      "_model_module_version": "1.2.0",
      "_model_name": "LayoutModel",
      "_view_count": null,
      "_view_module": "@jupyter-widgets/base",
      "_view_module_version": "1.2.0",
      "_view_name": "LayoutView",
      "align_content": null,
      "align_items": null,
      "align_self": null,
      "border": null,
      "bottom": null,
      "display": null,
      "flex": null,
      "flex_flow": null,
      "grid_area": null,
      "grid_auto_columns": null,
      "grid_auto_flow": null,
      "grid_auto_rows": null,
      "grid_column": null,
      "grid_gap": null,
      "grid_row": null,
      "grid_template_areas": null,
      "grid_template_columns": null,
      "grid_template_rows": null,
      "height": null,
      "justify_content": null,
      "justify_items": null,
      "left": null,
      "margin": null,
      "max_height": null,
      "max_width": null,
      "min_height": null,
      "min_width": null,
      "object_fit": null,
      "object_position": null,
      "order": null,
      "overflow": null,
      "overflow_x": null,
      "overflow_y": null,
      "padding": null,
      "right": null,
      "top": null,
      "visibility": null,
      "width": null
     }
    },
    "cc3d539fce2046f89258b42fd24a12b5": {
     "model_module": "@jupyter-widgets/controls",
     "model_module_version": "1.5.0",
     "model_name": "ProgressStyleModel",
     "state": {
      "_model_module": "@jupyter-widgets/controls",
      "_model_module_version": "1.5.0",
      "_model_name": "ProgressStyleModel",
      "_view_count": null,
      "_view_module": "@jupyter-widgets/base",
      "_view_module_version": "1.2.0",
      "_view_name": "StyleView",
      "bar_color": null,
      "description_width": ""
     }
    },
    "cec305f4bd6046bfadd521806847889b": {
     "model_module": "@jupyter-widgets/controls",
     "model_module_version": "1.5.0",
     "model_name": "DescriptionStyleModel",
     "state": {
      "_model_module": "@jupyter-widgets/controls",
      "_model_module_version": "1.5.0",
      "_model_name": "DescriptionStyleModel",
      "_view_count": null,
      "_view_module": "@jupyter-widgets/base",
      "_view_module_version": "1.2.0",
      "_view_name": "StyleView",
      "description_width": ""
     }
    },
    "cefae9cd615e46b19075f5a150cf14da": {
     "model_module": "@jupyter-widgets/base",
     "model_module_version": "1.2.0",
     "model_name": "LayoutModel",
     "state": {
      "_model_module": "@jupyter-widgets/base",
      "_model_module_version": "1.2.0",
      "_model_name": "LayoutModel",
      "_view_count": null,
      "_view_module": "@jupyter-widgets/base",
      "_view_module_version": "1.2.0",
      "_view_name": "LayoutView",
      "align_content": null,
      "align_items": null,
      "align_self": null,
      "border": null,
      "bottom": null,
      "display": null,
      "flex": null,
      "flex_flow": null,
      "grid_area": null,
      "grid_auto_columns": null,
      "grid_auto_flow": null,
      "grid_auto_rows": null,
      "grid_column": null,
      "grid_gap": null,
      "grid_row": null,
      "grid_template_areas": null,
      "grid_template_columns": null,
      "grid_template_rows": null,
      "height": null,
      "justify_content": null,
      "justify_items": null,
      "left": null,
      "margin": null,
      "max_height": null,
      "max_width": null,
      "min_height": null,
      "min_width": null,
      "object_fit": null,
      "object_position": null,
      "order": null,
      "overflow": null,
      "overflow_x": null,
      "overflow_y": null,
      "padding": null,
      "right": null,
      "top": null,
      "visibility": null,
      "width": null
     }
    },
    "d849b60cba5946f5a320e16519625c96": {
     "model_module": "@jupyter-widgets/controls",
     "model_module_version": "1.5.0",
     "model_name": "FloatProgressModel",
     "state": {
      "_dom_classes": [],
      "_model_module": "@jupyter-widgets/controls",
      "_model_module_version": "1.5.0",
      "_model_name": "FloatProgressModel",
      "_view_count": null,
      "_view_module": "@jupyter-widgets/controls",
      "_view_module_version": "1.5.0",
      "_view_name": "ProgressView",
      "bar_style": "success",
      "description": "",
      "description_tooltip": null,
      "layout": "IPY_MODEL_86e7f1f53d5a449d9fc669219a08d59d",
      "max": 1404,
      "min": 0,
      "orientation": "horizontal",
      "style": "IPY_MODEL_cc3d539fce2046f89258b42fd24a12b5",
      "value": 1404
     }
    },
    "d8ba99134411482aa5972d5d80e1cba8": {
     "model_module": "@jupyter-widgets/base",
     "model_module_version": "1.2.0",
     "model_name": "LayoutModel",
     "state": {
      "_model_module": "@jupyter-widgets/base",
      "_model_module_version": "1.2.0",
      "_model_name": "LayoutModel",
      "_view_count": null,
      "_view_module": "@jupyter-widgets/base",
      "_view_module_version": "1.2.0",
      "_view_name": "LayoutView",
      "align_content": null,
      "align_items": null,
      "align_self": null,
      "border": null,
      "bottom": null,
      "display": null,
      "flex": null,
      "flex_flow": null,
      "grid_area": null,
      "grid_auto_columns": null,
      "grid_auto_flow": null,
      "grid_auto_rows": null,
      "grid_column": null,
      "grid_gap": null,
      "grid_row": null,
      "grid_template_areas": null,
      "grid_template_columns": null,
      "grid_template_rows": null,
      "height": null,
      "justify_content": null,
      "justify_items": null,
      "left": null,
      "margin": null,
      "max_height": null,
      "max_width": null,
      "min_height": null,
      "min_width": null,
      "object_fit": null,
      "object_position": null,
      "order": null,
      "overflow": null,
      "overflow_x": null,
      "overflow_y": null,
      "padding": null,
      "right": null,
      "top": null,
      "visibility": null,
      "width": null
     }
    },
    "daeda61f25e545d8bd74c078992118d4": {
     "model_module": "@jupyter-widgets/controls",
     "model_module_version": "1.5.0",
     "model_name": "HTMLModel",
     "state": {
      "_dom_classes": [],
      "_model_module": "@jupyter-widgets/controls",
      "_model_module_version": "1.5.0",
      "_model_name": "HTMLModel",
      "_view_count": null,
      "_view_module": "@jupyter-widgets/controls",
      "_view_module_version": "1.5.0",
      "_view_name": "HTMLView",
      "description": "",
      "description_tooltip": null,
      "layout": "IPY_MODEL_2eec527736e8401b93db89d278bef89a",
      "placeholder": "​",
      "style": "IPY_MODEL_873998431c5b4537982bfb8e83eaf14f",
      "value": " 2.54k/2.54k [00:00&lt;00:00, 283kB/s]"
     }
    },
    "dc5018cbf8f9421298981bd6c2c4e05c": {
     "model_module": "@jupyter-widgets/base",
     "model_module_version": "1.2.0",
     "model_name": "LayoutModel",
     "state": {
      "_model_module": "@jupyter-widgets/base",
      "_model_module_version": "1.2.0",
      "_model_name": "LayoutModel",
      "_view_count": null,
      "_view_module": "@jupyter-widgets/base",
      "_view_module_version": "1.2.0",
      "_view_name": "LayoutView",
      "align_content": null,
      "align_items": null,
      "align_self": null,
      "border": null,
      "bottom": null,
      "display": null,
      "flex": null,
      "flex_flow": null,
      "grid_area": null,
      "grid_auto_columns": null,
      "grid_auto_flow": null,
      "grid_auto_rows": null,
      "grid_column": null,
      "grid_gap": null,
      "grid_row": null,
      "grid_template_areas": null,
      "grid_template_columns": null,
      "grid_template_rows": null,
      "height": null,
      "justify_content": null,
      "justify_items": null,
      "left": null,
      "margin": null,
      "max_height": null,
      "max_width": null,
      "min_height": null,
      "min_width": null,
      "object_fit": null,
      "object_position": null,
      "order": null,
      "overflow": null,
      "overflow_x": null,
      "overflow_y": null,
      "padding": null,
      "right": null,
      "top": null,
      "visibility": null,
      "width": null
     }
    },
    "df9fc16de850435db81d366b61bdd202": {
     "model_module": "@jupyter-widgets/base",
     "model_module_version": "1.2.0",
     "model_name": "LayoutModel",
     "state": {
      "_model_module": "@jupyter-widgets/base",
      "_model_module_version": "1.2.0",
      "_model_name": "LayoutModel",
      "_view_count": null,
      "_view_module": "@jupyter-widgets/base",
      "_view_module_version": "1.2.0",
      "_view_name": "LayoutView",
      "align_content": null,
      "align_items": null,
      "align_self": null,
      "border": null,
      "bottom": null,
      "display": null,
      "flex": null,
      "flex_flow": null,
      "grid_area": null,
      "grid_auto_columns": null,
      "grid_auto_flow": null,
      "grid_auto_rows": null,
      "grid_column": null,
      "grid_gap": null,
      "grid_row": null,
      "grid_template_areas": null,
      "grid_template_columns": null,
      "grid_template_rows": null,
      "height": null,
      "justify_content": null,
      "justify_items": null,
      "left": null,
      "margin": null,
      "max_height": null,
      "max_width": null,
      "min_height": null,
      "min_width": null,
      "object_fit": null,
      "object_position": null,
      "order": null,
      "overflow": null,
      "overflow_x": null,
      "overflow_y": null,
      "padding": null,
      "right": null,
      "top": null,
      "visibility": null,
      "width": null
     }
    },
    "e386bceed96a477dab468661c009e169": {
     "model_module": "@jupyter-widgets/controls",
     "model_module_version": "1.5.0",
     "model_name": "DescriptionStyleModel",
     "state": {
      "_model_module": "@jupyter-widgets/controls",
      "_model_module_version": "1.5.0",
      "_model_name": "DescriptionStyleModel",
      "_view_count": null,
      "_view_module": "@jupyter-widgets/base",
      "_view_module_version": "1.2.0",
      "_view_name": "StyleView",
      "description_width": ""
     }
    },
    "e3b33eb8870a4c939f94ab46199d9793": {
     "model_module": "@jupyter-widgets/controls",
     "model_module_version": "1.5.0",
     "model_name": "DescriptionStyleModel",
     "state": {
      "_model_module": "@jupyter-widgets/controls",
      "_model_module_version": "1.5.0",
      "_model_name": "DescriptionStyleModel",
      "_view_count": null,
      "_view_module": "@jupyter-widgets/base",
      "_view_module_version": "1.2.0",
      "_view_name": "StyleView",
      "description_width": ""
     }
    },
    "ebfc6157e5fe4a80844c94eafffa0ff6": {
     "model_module": "@jupyter-widgets/base",
     "model_module_version": "1.2.0",
     "model_name": "LayoutModel",
     "state": {
      "_model_module": "@jupyter-widgets/base",
      "_model_module_version": "1.2.0",
      "_model_name": "LayoutModel",
      "_view_count": null,
      "_view_module": "@jupyter-widgets/base",
      "_view_module_version": "1.2.0",
      "_view_name": "LayoutView",
      "align_content": null,
      "align_items": null,
      "align_self": null,
      "border": null,
      "bottom": null,
      "display": null,
      "flex": null,
      "flex_flow": null,
      "grid_area": null,
      "grid_auto_columns": null,
      "grid_auto_flow": null,
      "grid_auto_rows": null,
      "grid_column": null,
      "grid_gap": null,
      "grid_row": null,
      "grid_template_areas": null,
      "grid_template_columns": null,
      "grid_template_rows": null,
      "height": null,
      "justify_content": null,
      "justify_items": null,
      "left": null,
      "margin": null,
      "max_height": null,
      "max_width": null,
      "min_height": null,
      "min_width": null,
      "object_fit": null,
      "object_position": null,
      "order": null,
      "overflow": null,
      "overflow_x": null,
      "overflow_y": null,
      "padding": null,
      "right": null,
      "top": null,
      "visibility": null,
      "width": null
     }
    },
    "ef576166db054b7b8ff1b305e0bcbd6b": {
     "model_module": "@jupyter-widgets/base",
     "model_module_version": "1.2.0",
     "model_name": "LayoutModel",
     "state": {
      "_model_module": "@jupyter-widgets/base",
      "_model_module_version": "1.2.0",
      "_model_name": "LayoutModel",
      "_view_count": null,
      "_view_module": "@jupyter-widgets/base",
      "_view_module_version": "1.2.0",
      "_view_name": "LayoutView",
      "align_content": null,
      "align_items": null,
      "align_self": null,
      "border": null,
      "bottom": null,
      "display": null,
      "flex": null,
      "flex_flow": null,
      "grid_area": null,
      "grid_auto_columns": null,
      "grid_auto_flow": null,
      "grid_auto_rows": null,
      "grid_column": null,
      "grid_gap": null,
      "grid_row": null,
      "grid_template_areas": null,
      "grid_template_columns": null,
      "grid_template_rows": null,
      "height": null,
      "justify_content": null,
      "justify_items": null,
      "left": null,
      "margin": null,
      "max_height": null,
      "max_width": null,
      "min_height": null,
      "min_width": null,
      "object_fit": null,
      "object_position": null,
      "order": null,
      "overflow": null,
      "overflow_x": null,
      "overflow_y": null,
      "padding": null,
      "right": null,
      "top": null,
      "visibility": null,
      "width": null
     }
    },
    "f40a592feabe4d2b81aa0b6d832281fa": {
     "model_module": "@jupyter-widgets/controls",
     "model_module_version": "1.5.0",
     "model_name": "FloatProgressModel",
     "state": {
      "_dom_classes": [],
      "_model_module": "@jupyter-widgets/controls",
      "_model_module_version": "1.5.0",
      "_model_name": "FloatProgressModel",
      "_view_count": null,
      "_view_module": "@jupyter-widgets/controls",
      "_view_module_version": "1.5.0",
      "_view_name": "ProgressView",
      "bar_style": "success",
      "description": "",
      "description_tooltip": null,
      "layout": "IPY_MODEL_dc5018cbf8f9421298981bd6c2c4e05c",
      "max": 367,
      "min": 0,
      "orientation": "horizontal",
      "style": "IPY_MODEL_99c9561965fd472c903c9507e03402a1",
      "value": 367
     }
    },
    "f95d34ab2d1f4b4796b61ff392143614": {
     "model_module": "@jupyter-widgets/controls",
     "model_module_version": "1.5.0",
     "model_name": "HTMLModel",
     "state": {
      "_dom_classes": [],
      "_model_module": "@jupyter-widgets/controls",
      "_model_module_version": "1.5.0",
      "_model_name": "HTMLModel",
      "_view_count": null,
      "_view_module": "@jupyter-widgets/controls",
      "_view_module_version": "1.5.0",
      "_view_name": "HTMLView",
      "description": "",
      "description_tooltip": null,
      "layout": "IPY_MODEL_ff10c31c43ed430aad678e6e5eb314d1",
      "placeholder": "​",
      "style": "IPY_MODEL_1f7748c59900464e8a3b5dfceaa9a9f4",
      "value": " 2.42M/2.42M [00:00&lt;00:00, 24.0MB/s]"
     }
    },
    "f9fbc8fc34a34dc3957ad5ae71b6c6f2": {
     "model_module": "@jupyter-widgets/controls",
     "model_module_version": "1.5.0",
     "model_name": "HBoxModel",
     "state": {
      "_dom_classes": [],
      "_model_module": "@jupyter-widgets/controls",
      "_model_module_version": "1.5.0",
      "_model_name": "HBoxModel",
      "_view_count": null,
      "_view_module": "@jupyter-widgets/controls",
      "_view_module_version": "1.5.0",
      "_view_name": "HBoxView",
      "box_style": "",
      "children": [
       "IPY_MODEL_05b2e50fe1984c0d8c2db5b89cd6200c",
       "IPY_MODEL_3e09bf91dc4f4193abaca0ae01112543",
       "IPY_MODEL_daeda61f25e545d8bd74c078992118d4"
      ],
      "layout": "IPY_MODEL_aa92e606ee4446ed94c14783ce31a52c"
     }
    },
    "fb60e0605cde4778930ce2fef64ecc5e": {
     "model_module": "@jupyter-widgets/controls",
     "model_module_version": "1.5.0",
     "model_name": "HTMLModel",
     "state": {
      "_dom_classes": [],
      "_model_module": "@jupyter-widgets/controls",
      "_model_module_version": "1.5.0",
      "_model_name": "HTMLModel",
      "_view_count": null,
      "_view_module": "@jupyter-widgets/controls",
      "_view_module_version": "1.5.0",
      "_view_name": "HTMLView",
      "description": "",
      "description_tooltip": null,
      "layout": "IPY_MODEL_7eaaa085cfe642db81f9b0f7206d78bf",
      "placeholder": "​",
      "style": "IPY_MODEL_25cb751391434fdc8f4abf4abc5f48d0",
      "value": " 1.40k/1.40k [00:00&lt;00:00, 200kB/s]"
     }
    },
    "fb64086f88174f21a5db4ffa4c4cfa82": {
     "model_module": "@jupyter-widgets/base",
     "model_module_version": "1.2.0",
     "model_name": "LayoutModel",
     "state": {
      "_model_module": "@jupyter-widgets/base",
      "_model_module_version": "1.2.0",
      "_model_name": "LayoutModel",
      "_view_count": null,
      "_view_module": "@jupyter-widgets/base",
      "_view_module_version": "1.2.0",
      "_view_name": "LayoutView",
      "align_content": null,
      "align_items": null,
      "align_self": null,
      "border": null,
      "bottom": null,
      "display": null,
      "flex": null,
      "flex_flow": null,
      "grid_area": null,
      "grid_auto_columns": null,
      "grid_auto_flow": null,
      "grid_auto_rows": null,
      "grid_column": null,
      "grid_gap": null,
      "grid_row": null,
      "grid_template_areas": null,
      "grid_template_columns": null,
      "grid_template_rows": null,
      "height": null,
      "justify_content": null,
      "justify_items": null,
      "left": null,
      "margin": null,
      "max_height": null,
      "max_width": null,
      "min_height": null,
      "min_width": null,
      "object_fit": null,
      "object_position": null,
      "order": null,
      "overflow": null,
      "overflow_x": null,
      "overflow_y": null,
      "padding": null,
      "right": null,
      "top": null,
      "visibility": null,
      "width": null
     }
    },
    "fc77e2cee7f64a2594c8835c750d62a5": {
     "model_module": "@jupyter-widgets/base",
     "model_module_version": "1.2.0",
     "model_name": "LayoutModel",
     "state": {
      "_model_module": "@jupyter-widgets/base",
      "_model_module_version": "1.2.0",
      "_model_name": "LayoutModel",
      "_view_count": null,
      "_view_module": "@jupyter-widgets/base",
      "_view_module_version": "1.2.0",
      "_view_name": "LayoutView",
      "align_content": null,
      "align_items": null,
      "align_self": null,
      "border": null,
      "bottom": null,
      "display": null,
      "flex": null,
      "flex_flow": null,
      "grid_area": null,
      "grid_auto_columns": null,
      "grid_auto_flow": null,
      "grid_auto_rows": null,
      "grid_column": null,
      "grid_gap": null,
      "grid_row": null,
      "grid_template_areas": null,
      "grid_template_columns": null,
      "grid_template_rows": null,
      "height": null,
      "justify_content": null,
      "justify_items": null,
      "left": null,
      "margin": null,
      "max_height": null,
      "max_width": null,
      "min_height": null,
      "min_width": null,
      "object_fit": null,
      "object_position": null,
      "order": null,
      "overflow": null,
      "overflow_x": null,
      "overflow_y": null,
      "padding": null,
      "right": null,
      "top": null,
      "visibility": null,
      "width": null
     }
    },
    "fedf0327e74e47bbab30a1961a986a6e": {
     "model_module": "@jupyter-widgets/controls",
     "model_module_version": "1.5.0",
     "model_name": "DescriptionStyleModel",
     "state": {
      "_model_module": "@jupyter-widgets/controls",
      "_model_module_version": "1.5.0",
      "_model_name": "DescriptionStyleModel",
      "_view_count": null,
      "_view_module": "@jupyter-widgets/base",
      "_view_module_version": "1.2.0",
      "_view_name": "StyleView",
      "description_width": ""
     }
    },
    "ff10c31c43ed430aad678e6e5eb314d1": {
     "model_module": "@jupyter-widgets/base",
     "model_module_version": "1.2.0",
     "model_name": "LayoutModel",
     "state": {
      "_model_module": "@jupyter-widgets/base",
      "_model_module_version": "1.2.0",
      "_model_name": "LayoutModel",
      "_view_count": null,
      "_view_module": "@jupyter-widgets/base",
      "_view_module_version": "1.2.0",
      "_view_name": "LayoutView",
      "align_content": null,
      "align_items": null,
      "align_self": null,
      "border": null,
      "bottom": null,
      "display": null,
      "flex": null,
      "flex_flow": null,
      "grid_area": null,
      "grid_auto_columns": null,
      "grid_auto_flow": null,
      "grid_auto_rows": null,
      "grid_column": null,
      "grid_gap": null,
      "grid_row": null,
      "grid_template_areas": null,
      "grid_template_columns": null,
      "grid_template_rows": null,
      "height": null,
      "justify_content": null,
      "justify_items": null,
      "left": null,
      "margin": null,
      "max_height": null,
      "max_width": null,
      "min_height": null,
      "min_width": null,
      "object_fit": null,
      "object_position": null,
      "order": null,
      "overflow": null,
      "overflow_x": null,
      "overflow_y": null,
      "padding": null,
      "right": null,
      "top": null,
      "visibility": null,
      "width": null
     }
    }
   }
  }
 },
 "nbformat": 4,
 "nbformat_minor": 1
}
